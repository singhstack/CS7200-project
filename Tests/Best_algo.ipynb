{
 "cells": [
  {
   "cell_type": "code",
   "execution_count": null,
   "metadata": {},
   "outputs": [],
   "source": [
    "import pandas as pd\n",
    "import numpy as np\n",
    "import matplotlib.pyplot as plt\n",
    "import seaborn as sns"
   ]
  },
  {
   "cell_type": "code",
   "execution_count": 1,
   "metadata": {},
   "outputs": [],
   "source": [
    "import pandas as pd\n",
    "import os\n",
    "\n",
    "def consolidate_csv_files(folder_path):\n",
    "    all_data = []  # List to hold data from all CSV files\n",
    "\n",
    "    for filename in os.listdir(folder_path):\n",
    "        if filename.endswith('.csv'):\n",
    "            file_path = os.path.join(folder_path, filename)\n",
    "            df = pd.read_csv(file_path)\n",
    "            \n",
    "            # Add a column with the filename as identifier\n",
    "            file_name_without_extension = os.path.splitext(filename)[0]\n",
    "            df['Combination'] = file_name_without_extension\n",
    "            all_data.append(df)\n",
    "            # df['SourceFile'] = filename\n",
    "            # all_data.append(df)\n",
    "\n",
    "    # Concatenate all dataframes\n",
    "    combined_df = pd.concat(all_data, ignore_index=True)\n",
    "    combined_df.rename(columns={\"Index\":\"Graph_id\"}, inplace=True)\n",
    "    # combined_df.sort_values(by=['Combination', 'Graph_id'], inplace=True)\n",
    "    combined_df.drop(['File'], axis=1, inplace=True)\n",
    "    \n",
    "\n",
    "#     return combined_df\n",
    "\n",
    "# Example usage\n",
    "folder_path = '../data/direct_transitivity'\n",
    "combined_df = consolidate_csv_files(folder_path)\n",
    "data = combined_df\n",
    "\n",
    "# Now you can work with the combined_df DataFrame\n"
   ]
  },
  {
   "cell_type": "code",
   "execution_count": 12,
   "metadata": {},
   "outputs": [],
   "source": [
    "combined_df = pd.read_csv('/Users/arifwaghbakriwala/Documents/CS7200-project/Tests/direct_transitivity_data.csv')\n",
    "combined_df.rename({'Index': 'Graph_id'}, axis=1, inplace=True)\n",
    "data = combined_df"
   ]
  },
  {
   "cell_type": "code",
   "execution_count": 11,
   "metadata": {},
   "outputs": [
    {
     "data": {
      "text/plain": [
       "Index(['Graph_id', 'File', 'Nodes', 'Total Nodes', 'Butterflies', 'X-vars',\n",
       "       'C-vars', 'Total vars', 'Total constraints', 'Crossings', 'Opttime',\n",
       "       'Status', 'Nodes visited', 'Setup Time', 'config', 'check_1', 'check_2',\n",
       "       'check_3', 'check_4', 'check_5', 'check_6', 'check_7', 'check_8',\n",
       "       'check_9'],\n",
       "      dtype='object')"
      ]
     },
     "execution_count": 11,
     "metadata": {},
     "output_type": "execute_result"
    }
   ],
   "source": [
    "combined_df.columns"
   ]
  },
  {
   "cell_type": "code",
   "execution_count": 13,
   "metadata": {},
   "outputs": [],
   "source": [
    "from scipy.stats import f_oneway, kruskal\n",
    "# Analyzing the performance of different combinations\n",
    "\n",
    "# Correlation analysis\n",
    "# correlation_matrix = data[['Nodes', 'Total Nodes', 'Crossings', 'Opttime', 'Status']].corr()\n",
    "\n",
    "# Visualization of combination performance\n",
    "# Aggregating data based on combination\n",
    "# combination_performance = data[data['Status'] == 2].groupby('Combination_Encoded').agg({'Opttime': 'mean', 'Crossings':'mean', 'Status': lambda x: (x == 2).mean() * 100})\n",
    "combination_performance_status = data.groupby('Graph_id').agg({'Status': lambda x: (x == 2).mean() * 100})\n",
    "combination_performance_characteristics = data[data['Status'] == 2].groupby('Graph_id').agg({'Opttime': 'mean', 'Crossings':'mean', 'Total Nodes': 'mean'})\n",
    "\n",
    "combination_performance = pd.merge(combination_performance_status, \n",
    "         combination_performance_characteristics, \n",
    "         how='inner', \n",
    "         left_index=True,\n",
    "         right_index=True\n",
    ")\n",
    "\n",
    "\n",
    "# combination_performance['Status'] = np.round(combination_performance['Status'], 2)\n",
    "# combination_performance['Crossings'] = combination_performance['Crossings'].astype(int)\n",
    "# temp = combination_performance[(combination_performance['Status']== 100) & (combination_performance['Crossings']!=0)].sort_values('Crossings', ascending=False).reset_index()\n",
    "# plt.hist(temp['Opttime'])\n",
    "\n",
    "\n",
    "# # Selecting a subset of combinations for the test\n",
    "# sample_combinations = temp['Graph_id'].unique()[:5]\n",
    "# print(len(sample_combinations))\n",
    "# sample_df = combined_df[combined_df['Graph_id'].isin(sample_combinations)]\n",
    "\n",
    "# # ANOVA Test, just doing it but assumptions are not met anyways\n",
    "# anova_results = f_oneway(*[sample_df[sample_df['Graph_id'] == comb]['Opttime'] for comb in sample_combinations])\n",
    "\n",
    "# # Kruskal-Wallis Test (non-parametric)\n",
    "# kruskal_results = kruskal(*[sample_df[sample_df['Graph_id'] == comb]['Opttime'] for comb in sample_combinations])\n",
    "\n",
    "# anova_results, kruskal_results\n"
   ]
  },
  {
   "cell_type": "code",
   "execution_count": null,
   "metadata": {},
   "outputs": [],
   "source": []
  }
 ],
 "metadata": {
  "kernelspec": {
   "display_name": "Python 3",
   "language": "python",
   "name": "python3"
  },
  "language_info": {
   "codemirror_mode": {
    "name": "ipython",
    "version": 3
   },
   "file_extension": ".py",
   "mimetype": "text/x-python",
   "name": "python",
   "nbconvert_exporter": "python",
   "pygments_lexer": "ipython3",
   "version": "3.11.4"
  }
 },
 "nbformat": 4,
 "nbformat_minor": 2
}
