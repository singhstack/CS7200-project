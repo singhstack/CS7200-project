{
 "cells": [
  {
   "cell_type": "code",
   "execution_count": 1,
   "metadata": {},
   "outputs": [],
   "source": [
    "import pandas as pd\n",
    "import seaborn as sns\n",
    "import warnings\n",
    "warnings.filterwarnings('ignore')\n",
    "import os\n",
    "import matplotlib.pyplot as plt\n",
    "import numpy as np\n",
    "from scipy import stats\n",
    "from scipy.special import ndtri\n",
    "from scipy.stats import chi2\n",
    "from scipy.stats import t\n",
    "from scipy.stats import f\n",
    "import statsmodels.api as sm\n",
    "from statsmodels.formula.api import ols\n",
    "from statsmodels.regression.linear_model import OLS\n",
    "import random\n",
    "from scipy.stats import shapiro\n",
    "from scipy.stats import bartlett\n",
    "from scipy import stats\n"
   ]
  },
  {
   "cell_type": "code",
   "execution_count": 2,
   "metadata": {},
   "outputs": [
    {
     "data": {
      "text/html": [
       "<div>\n",
       "<style scoped>\n",
       "    .dataframe tbody tr th:only-of-type {\n",
       "        vertical-align: middle;\n",
       "    }\n",
       "\n",
       "    .dataframe tbody tr th {\n",
       "        vertical-align: top;\n",
       "    }\n",
       "\n",
       "    .dataframe thead th {\n",
       "        text-align: right;\n",
       "    }\n",
       "</style>\n",
       "<table border=\"1\" class=\"dataframe\">\n",
       "  <thead>\n",
       "    <tr style=\"text-align: right;\">\n",
       "      <th></th>\n",
       "      <th>Index</th>\n",
       "      <th>File</th>\n",
       "      <th>Nodes</th>\n",
       "      <th>NumLayers</th>\n",
       "      <th>NumEdges</th>\n",
       "      <th>EdgeDensity</th>\n",
       "      <th>AvgNodesPerLayer</th>\n",
       "      <th>AvgEdgesPerLayer</th>\n",
       "      <th>graph_id</th>\n",
       "    </tr>\n",
       "  </thead>\n",
       "  <tbody>\n",
       "    <tr>\n",
       "      <th>0</th>\n",
       "      <td>0</td>\n",
       "      <td>north/g.10.72.graphml</td>\n",
       "      <td>12</td>\n",
       "      <td>6</td>\n",
       "      <td>13</td>\n",
       "      <td>0.520000</td>\n",
       "      <td>2.000000</td>\n",
       "      <td>2.600000</td>\n",
       "      <td>1</td>\n",
       "    </tr>\n",
       "    <tr>\n",
       "      <th>1</th>\n",
       "      <td>1</td>\n",
       "      <td>north/g.13.45.graphml</td>\n",
       "      <td>13</td>\n",
       "      <td>4</td>\n",
       "      <td>12</td>\n",
       "      <td>0.342857</td>\n",
       "      <td>3.250000</td>\n",
       "      <td>4.000000</td>\n",
       "      <td>2</td>\n",
       "    </tr>\n",
       "    <tr>\n",
       "      <th>2</th>\n",
       "      <td>2</td>\n",
       "      <td>north/g.10.11.graphml</td>\n",
       "      <td>10</td>\n",
       "      <td>5</td>\n",
       "      <td>14</td>\n",
       "      <td>1.000000</td>\n",
       "      <td>2.000000</td>\n",
       "      <td>3.500000</td>\n",
       "      <td>3</td>\n",
       "    </tr>\n",
       "    <tr>\n",
       "      <th>3</th>\n",
       "      <td>3</td>\n",
       "      <td>Rome-Lib/graficon11nodi/grafo233.11</td>\n",
       "      <td>18</td>\n",
       "      <td>8</td>\n",
       "      <td>19</td>\n",
       "      <td>0.475000</td>\n",
       "      <td>2.250000</td>\n",
       "      <td>2.714286</td>\n",
       "      <td>4</td>\n",
       "    </tr>\n",
       "    <tr>\n",
       "      <th>4</th>\n",
       "      <td>4</td>\n",
       "      <td>Rome-Lib/graficon12nodi/grafo2240.12</td>\n",
       "      <td>16</td>\n",
       "      <td>7</td>\n",
       "      <td>17</td>\n",
       "      <td>0.485714</td>\n",
       "      <td>2.285714</td>\n",
       "      <td>2.833333</td>\n",
       "      <td>5</td>\n",
       "    </tr>\n",
       "  </tbody>\n",
       "</table>\n",
       "</div>"
      ],
      "text/plain": [
       "   Index                                  File  Nodes  NumLayers  NumEdges  \\\n",
       "0      0                 north/g.10.72.graphml     12          6        13   \n",
       "1      1                 north/g.13.45.graphml     13          4        12   \n",
       "2      2                 north/g.10.11.graphml     10          5        14   \n",
       "3      3   Rome-Lib/graficon11nodi/grafo233.11     18          8        19   \n",
       "4      4  Rome-Lib/graficon12nodi/grafo2240.12     16          7        17   \n",
       "\n",
       "   EdgeDensity  AvgNodesPerLayer  AvgEdgesPerLayer  graph_id  \n",
       "0     0.520000          2.000000          2.600000         1  \n",
       "1     0.342857          3.250000          4.000000         2  \n",
       "2     1.000000          2.000000          3.500000         3  \n",
       "3     0.475000          2.250000          2.714286         4  \n",
       "4     0.485714          2.285714          2.833333         5  "
      ]
     },
     "execution_count": 2,
     "metadata": {},
     "output_type": "execute_result"
    }
   ],
   "source": [
    "graph_df = pd.read_csv(r'../data/graph_properties.csv')\n",
    "graph_df['graph_id'] = graph_df.index + 1\n",
    "graph_df.head()"
   ]
  },
  {
   "cell_type": "code",
   "execution_count": 3,
   "metadata": {},
   "outputs": [
    {
     "data": {
      "text/html": [
       "<div>\n",
       "<style scoped>\n",
       "    .dataframe tbody tr th:only-of-type {\n",
       "        vertical-align: middle;\n",
       "    }\n",
       "\n",
       "    .dataframe tbody tr th {\n",
       "        vertical-align: top;\n",
       "    }\n",
       "\n",
       "    .dataframe thead th {\n",
       "        text-align: right;\n",
       "    }\n",
       "</style>\n",
       "<table border=\"1\" class=\"dataframe\">\n",
       "  <thead>\n",
       "    <tr style=\"text-align: right;\">\n",
       "      <th></th>\n",
       "      <th>Index</th>\n",
       "      <th>File</th>\n",
       "      <th>Nodes</th>\n",
       "      <th>Total Nodes</th>\n",
       "      <th>Butterflies</th>\n",
       "      <th>X-vars</th>\n",
       "      <th>C-vars</th>\n",
       "      <th>Total vars</th>\n",
       "      <th>Total constraints</th>\n",
       "      <th>Crossings</th>\n",
       "      <th>...</th>\n",
       "      <th>config</th>\n",
       "      <th>check_1</th>\n",
       "      <th>check_2</th>\n",
       "      <th>check_3</th>\n",
       "      <th>check_4</th>\n",
       "      <th>check_5</th>\n",
       "      <th>check_6</th>\n",
       "      <th>check_7</th>\n",
       "      <th>check_8</th>\n",
       "      <th>check_9</th>\n",
       "    </tr>\n",
       "  </thead>\n",
       "  <tbody>\n",
       "    <tr>\n",
       "      <th>0</th>\n",
       "      <td>0</td>\n",
       "      <td>north/g.10.72.graphml</td>\n",
       "      <td>10</td>\n",
       "      <td>12</td>\n",
       "      <td>0</td>\n",
       "      <td>8</td>\n",
       "      <td>7</td>\n",
       "      <td>15</td>\n",
       "      <td>20</td>\n",
       "      <td>0</td>\n",
       "      <td>...</td>\n",
       "      <td>d_235689</td>\n",
       "      <td>0</td>\n",
       "      <td>1</td>\n",
       "      <td>1</td>\n",
       "      <td>0</td>\n",
       "      <td>1</td>\n",
       "      <td>1</td>\n",
       "      <td>0</td>\n",
       "      <td>1</td>\n",
       "      <td>1</td>\n",
       "    </tr>\n",
       "    <tr>\n",
       "      <th>1</th>\n",
       "      <td>1</td>\n",
       "      <td>north/g.13.45.graphml</td>\n",
       "      <td>13</td>\n",
       "      <td>13</td>\n",
       "      <td>0</td>\n",
       "      <td>6</td>\n",
       "      <td>2</td>\n",
       "      <td>8</td>\n",
       "      <td>8</td>\n",
       "      <td>0</td>\n",
       "      <td>...</td>\n",
       "      <td>d_235689</td>\n",
       "      <td>0</td>\n",
       "      <td>1</td>\n",
       "      <td>1</td>\n",
       "      <td>0</td>\n",
       "      <td>1</td>\n",
       "      <td>1</td>\n",
       "      <td>0</td>\n",
       "      <td>1</td>\n",
       "      <td>1</td>\n",
       "    </tr>\n",
       "    <tr>\n",
       "      <th>2</th>\n",
       "      <td>2</td>\n",
       "      <td>north/g.10.11.graphml</td>\n",
       "      <td>10</td>\n",
       "      <td>10</td>\n",
       "      <td>0</td>\n",
       "      <td>15</td>\n",
       "      <td>0</td>\n",
       "      <td>15</td>\n",
       "      <td>40</td>\n",
       "      <td>0</td>\n",
       "      <td>...</td>\n",
       "      <td>d_235689</td>\n",
       "      <td>0</td>\n",
       "      <td>1</td>\n",
       "      <td>1</td>\n",
       "      <td>0</td>\n",
       "      <td>1</td>\n",
       "      <td>1</td>\n",
       "      <td>0</td>\n",
       "      <td>1</td>\n",
       "      <td>1</td>\n",
       "    </tr>\n",
       "    <tr>\n",
       "      <th>3</th>\n",
       "      <td>3</td>\n",
       "      <td>Rome-Lib/graficon11nodi/grafo233.11</td>\n",
       "      <td>11</td>\n",
       "      <td>18</td>\n",
       "      <td>0</td>\n",
       "      <td>15</td>\n",
       "      <td>12</td>\n",
       "      <td>27</td>\n",
       "      <td>36</td>\n",
       "      <td>0</td>\n",
       "      <td>...</td>\n",
       "      <td>d_235689</td>\n",
       "      <td>0</td>\n",
       "      <td>1</td>\n",
       "      <td>1</td>\n",
       "      <td>0</td>\n",
       "      <td>1</td>\n",
       "      <td>1</td>\n",
       "      <td>0</td>\n",
       "      <td>1</td>\n",
       "      <td>1</td>\n",
       "    </tr>\n",
       "    <tr>\n",
       "      <th>4</th>\n",
       "      <td>4</td>\n",
       "      <td>Rome-Lib/graficon12nodi/grafo2240.12</td>\n",
       "      <td>12</td>\n",
       "      <td>16</td>\n",
       "      <td>0</td>\n",
       "      <td>12</td>\n",
       "      <td>11</td>\n",
       "      <td>23</td>\n",
       "      <td>30</td>\n",
       "      <td>0</td>\n",
       "      <td>...</td>\n",
       "      <td>d_235689</td>\n",
       "      <td>0</td>\n",
       "      <td>1</td>\n",
       "      <td>1</td>\n",
       "      <td>0</td>\n",
       "      <td>1</td>\n",
       "      <td>1</td>\n",
       "      <td>0</td>\n",
       "      <td>1</td>\n",
       "      <td>1</td>\n",
       "    </tr>\n",
       "  </tbody>\n",
       "</table>\n",
       "<p>5 rows × 24 columns</p>\n",
       "</div>"
      ],
      "text/plain": [
       "   Index                                  File  Nodes  Total Nodes  \\\n",
       "0      0                 north/g.10.72.graphml     10           12   \n",
       "1      1                 north/g.13.45.graphml     13           13   \n",
       "2      2                 north/g.10.11.graphml     10           10   \n",
       "3      3   Rome-Lib/graficon11nodi/grafo233.11     11           18   \n",
       "4      4  Rome-Lib/graficon12nodi/grafo2240.12     12           16   \n",
       "\n",
       "   Butterflies  X-vars  C-vars  Total vars  Total constraints  Crossings  ...  \\\n",
       "0            0       8       7          15                 20          0  ...   \n",
       "1            0       6       2           8                  8          0  ...   \n",
       "2            0      15       0          15                 40          0  ...   \n",
       "3            0      15      12          27                 36          0  ...   \n",
       "4            0      12      11          23                 30          0  ...   \n",
       "\n",
       "     config  check_1  check_2  check_3 check_4  check_5  check_6  check_7  \\\n",
       "0  d_235689        0        1        1       0        1        1        0   \n",
       "1  d_235689        0        1        1       0        1        1        0   \n",
       "2  d_235689        0        1        1       0        1        1        0   \n",
       "3  d_235689        0        1        1       0        1        1        0   \n",
       "4  d_235689        0        1        1       0        1        1        0   \n",
       "\n",
       "   check_8  check_9  \n",
       "0        1        1  \n",
       "1        1        1  \n",
       "2        1        1  \n",
       "3        1        1  \n",
       "4        1        1  \n",
       "\n",
       "[5 rows x 24 columns]"
      ]
     },
     "execution_count": 3,
     "metadata": {},
     "output_type": "execute_result"
    }
   ],
   "source": [
    "df = pd.read_csv(r'../data/direct_transitivity_data.csv')\n",
    "df.head()"
   ]
  },
  {
   "cell_type": "code",
   "execution_count": 4,
   "metadata": {},
   "outputs": [
    {
     "data": {
      "text/html": [
       "<div>\n",
       "<style scoped>\n",
       "    .dataframe tbody tr th:only-of-type {\n",
       "        vertical-align: middle;\n",
       "    }\n",
       "\n",
       "    .dataframe tbody tr th {\n",
       "        vertical-align: top;\n",
       "    }\n",
       "\n",
       "    .dataframe thead th {\n",
       "        text-align: right;\n",
       "    }\n",
       "</style>\n",
       "<table border=\"1\" class=\"dataframe\">\n",
       "  <thead>\n",
       "    <tr style=\"text-align: right;\">\n",
       "      <th></th>\n",
       "      <th>graph_id</th>\n",
       "      <th>Total Nodes</th>\n",
       "      <th>Crossings</th>\n",
       "      <th>Opttime</th>\n",
       "      <th>Status</th>\n",
       "      <th>config</th>\n",
       "      <th>check_1</th>\n",
       "      <th>check_2</th>\n",
       "      <th>check_3</th>\n",
       "      <th>check_4</th>\n",
       "      <th>check_5</th>\n",
       "      <th>check_6</th>\n",
       "      <th>check_7</th>\n",
       "      <th>check_8</th>\n",
       "      <th>check_9</th>\n",
       "    </tr>\n",
       "  </thead>\n",
       "  <tbody>\n",
       "    <tr>\n",
       "      <th>0</th>\n",
       "      <td>1</td>\n",
       "      <td>12</td>\n",
       "      <td>0</td>\n",
       "      <td>0.000556</td>\n",
       "      <td>2</td>\n",
       "      <td>d_235689</td>\n",
       "      <td>0</td>\n",
       "      <td>1</td>\n",
       "      <td>1</td>\n",
       "      <td>0</td>\n",
       "      <td>1</td>\n",
       "      <td>1</td>\n",
       "      <td>0</td>\n",
       "      <td>1</td>\n",
       "      <td>1</td>\n",
       "    </tr>\n",
       "    <tr>\n",
       "      <th>1</th>\n",
       "      <td>1</td>\n",
       "      <td>12</td>\n",
       "      <td>0</td>\n",
       "      <td>0.000984</td>\n",
       "      <td>2</td>\n",
       "      <td>d_158</td>\n",
       "      <td>1</td>\n",
       "      <td>0</td>\n",
       "      <td>0</td>\n",
       "      <td>0</td>\n",
       "      <td>1</td>\n",
       "      <td>0</td>\n",
       "      <td>0</td>\n",
       "      <td>1</td>\n",
       "      <td>0</td>\n",
       "    </tr>\n",
       "    <tr>\n",
       "      <th>2</th>\n",
       "      <td>1</td>\n",
       "      <td>12</td>\n",
       "      <td>0</td>\n",
       "      <td>0.000857</td>\n",
       "      <td>2</td>\n",
       "      <td>d_1567</td>\n",
       "      <td>1</td>\n",
       "      <td>0</td>\n",
       "      <td>0</td>\n",
       "      <td>0</td>\n",
       "      <td>1</td>\n",
       "      <td>1</td>\n",
       "      <td>1</td>\n",
       "      <td>0</td>\n",
       "      <td>0</td>\n",
       "    </tr>\n",
       "    <tr>\n",
       "      <th>3</th>\n",
       "      <td>1</td>\n",
       "      <td>12</td>\n",
       "      <td>0</td>\n",
       "      <td>0.000621</td>\n",
       "      <td>2</td>\n",
       "      <td>d_234568</td>\n",
       "      <td>0</td>\n",
       "      <td>1</td>\n",
       "      <td>1</td>\n",
       "      <td>1</td>\n",
       "      <td>1</td>\n",
       "      <td>1</td>\n",
       "      <td>0</td>\n",
       "      <td>1</td>\n",
       "      <td>0</td>\n",
       "    </tr>\n",
       "    <tr>\n",
       "      <th>4</th>\n",
       "      <td>1</td>\n",
       "      <td>12</td>\n",
       "      <td>0</td>\n",
       "      <td>0.000661</td>\n",
       "      <td>2</td>\n",
       "      <td>d_58</td>\n",
       "      <td>0</td>\n",
       "      <td>0</td>\n",
       "      <td>0</td>\n",
       "      <td>0</td>\n",
       "      <td>1</td>\n",
       "      <td>0</td>\n",
       "      <td>0</td>\n",
       "      <td>1</td>\n",
       "      <td>0</td>\n",
       "    </tr>\n",
       "  </tbody>\n",
       "</table>\n",
       "</div>"
      ],
      "text/plain": [
       "   graph_id  Total Nodes  Crossings   Opttime  Status    config  check_1  \\\n",
       "0         1           12          0  0.000556       2  d_235689        0   \n",
       "1         1           12          0  0.000984       2     d_158        1   \n",
       "2         1           12          0  0.000857       2    d_1567        1   \n",
       "3         1           12          0  0.000621       2  d_234568        0   \n",
       "4         1           12          0  0.000661       2      d_58        0   \n",
       "\n",
       "   check_2  check_3  check_4  check_5  check_6  check_7  check_8  check_9  \n",
       "0        1        1        0        1        1        0        1        1  \n",
       "1        0        0        0        1        0        0        1        0  \n",
       "2        0        0        0        1        1        1        0        0  \n",
       "3        1        1        1        1        1        0        1        0  \n",
       "4        0        0        0        1        0        0        1        0  "
      ]
     },
     "execution_count": 4,
     "metadata": {},
     "output_type": "execute_result"
    }
   ],
   "source": [
    "joined_df = df.merge(graph_df, on = 'File')\n",
    "joined_df = joined_df[['graph_id','Total Nodes', 'Crossings','Opttime','Status','config', 'check_1', 'check_2',\n",
    "       'check_3', 'check_4', 'check_5', 'check_6', 'check_7', 'check_8',\n",
    "       'check_9' ]]\n",
    "\n",
    "joined_df.head()"
   ]
  },
  {
   "cell_type": "code",
   "execution_count": 5,
   "metadata": {},
   "outputs": [
    {
     "data": {
      "text/html": [
       "<div>\n",
       "<style scoped>\n",
       "    .dataframe tbody tr th:only-of-type {\n",
       "        vertical-align: middle;\n",
       "    }\n",
       "\n",
       "    .dataframe tbody tr th {\n",
       "        vertical-align: top;\n",
       "    }\n",
       "\n",
       "    .dataframe thead th {\n",
       "        text-align: right;\n",
       "    }\n",
       "</style>\n",
       "<table border=\"1\" class=\"dataframe\">\n",
       "  <thead>\n",
       "    <tr style=\"text-align: right;\">\n",
       "      <th></th>\n",
       "      <th>graph_id</th>\n",
       "      <th>Total Nodes</th>\n",
       "      <th>Crossings</th>\n",
       "      <th>Opttime</th>\n",
       "      <th>Status</th>\n",
       "      <th>config</th>\n",
       "      <th>check_1</th>\n",
       "      <th>check_2</th>\n",
       "      <th>check_3</th>\n",
       "      <th>check_4</th>\n",
       "      <th>check_5</th>\n",
       "      <th>check_6</th>\n",
       "      <th>check_7</th>\n",
       "      <th>check_8</th>\n",
       "      <th>check_9</th>\n",
       "      <th>combination</th>\n",
       "    </tr>\n",
       "  </thead>\n",
       "  <tbody>\n",
       "    <tr>\n",
       "      <th>0</th>\n",
       "      <td>1</td>\n",
       "      <td>12</td>\n",
       "      <td>0</td>\n",
       "      <td>0.000556</td>\n",
       "      <td>2</td>\n",
       "      <td>d_235689</td>\n",
       "      <td>0</td>\n",
       "      <td>1</td>\n",
       "      <td>1</td>\n",
       "      <td>0</td>\n",
       "      <td>1</td>\n",
       "      <td>1</td>\n",
       "      <td>0</td>\n",
       "      <td>1</td>\n",
       "      <td>1</td>\n",
       "      <td>235689</td>\n",
       "    </tr>\n",
       "    <tr>\n",
       "      <th>1</th>\n",
       "      <td>1</td>\n",
       "      <td>12</td>\n",
       "      <td>0</td>\n",
       "      <td>0.000984</td>\n",
       "      <td>2</td>\n",
       "      <td>d_158</td>\n",
       "      <td>1</td>\n",
       "      <td>0</td>\n",
       "      <td>0</td>\n",
       "      <td>0</td>\n",
       "      <td>1</td>\n",
       "      <td>0</td>\n",
       "      <td>0</td>\n",
       "      <td>1</td>\n",
       "      <td>0</td>\n",
       "      <td>158</td>\n",
       "    </tr>\n",
       "    <tr>\n",
       "      <th>2</th>\n",
       "      <td>1</td>\n",
       "      <td>12</td>\n",
       "      <td>0</td>\n",
       "      <td>0.000857</td>\n",
       "      <td>2</td>\n",
       "      <td>d_1567</td>\n",
       "      <td>1</td>\n",
       "      <td>0</td>\n",
       "      <td>0</td>\n",
       "      <td>0</td>\n",
       "      <td>1</td>\n",
       "      <td>1</td>\n",
       "      <td>1</td>\n",
       "      <td>0</td>\n",
       "      <td>0</td>\n",
       "      <td>1567</td>\n",
       "    </tr>\n",
       "    <tr>\n",
       "      <th>3</th>\n",
       "      <td>1</td>\n",
       "      <td>12</td>\n",
       "      <td>0</td>\n",
       "      <td>0.000621</td>\n",
       "      <td>2</td>\n",
       "      <td>d_234568</td>\n",
       "      <td>0</td>\n",
       "      <td>1</td>\n",
       "      <td>1</td>\n",
       "      <td>1</td>\n",
       "      <td>1</td>\n",
       "      <td>1</td>\n",
       "      <td>0</td>\n",
       "      <td>1</td>\n",
       "      <td>0</td>\n",
       "      <td>234568</td>\n",
       "    </tr>\n",
       "    <tr>\n",
       "      <th>4</th>\n",
       "      <td>1</td>\n",
       "      <td>12</td>\n",
       "      <td>0</td>\n",
       "      <td>0.000661</td>\n",
       "      <td>2</td>\n",
       "      <td>d_58</td>\n",
       "      <td>0</td>\n",
       "      <td>0</td>\n",
       "      <td>0</td>\n",
       "      <td>0</td>\n",
       "      <td>1</td>\n",
       "      <td>0</td>\n",
       "      <td>0</td>\n",
       "      <td>1</td>\n",
       "      <td>0</td>\n",
       "      <td>58</td>\n",
       "    </tr>\n",
       "  </tbody>\n",
       "</table>\n",
       "</div>"
      ],
      "text/plain": [
       "   graph_id  Total Nodes  Crossings   Opttime  Status    config  check_1  \\\n",
       "0         1           12          0  0.000556       2  d_235689        0   \n",
       "1         1           12          0  0.000984       2     d_158        1   \n",
       "2         1           12          0  0.000857       2    d_1567        1   \n",
       "3         1           12          0  0.000621       2  d_234568        0   \n",
       "4         1           12          0  0.000661       2      d_58        0   \n",
       "\n",
       "   check_2  check_3  check_4  check_5  check_6  check_7  check_8  check_9  \\\n",
       "0        1        1        0        1        1        0        1        1   \n",
       "1        0        0        0        1        0        0        1        0   \n",
       "2        0        0        0        1        1        1        0        0   \n",
       "3        1        1        1        1        1        0        1        0   \n",
       "4        0        0        0        1        0        0        1        0   \n",
       "\n",
       "  combination  \n",
       "0      235689  \n",
       "1         158  \n",
       "2        1567  \n",
       "3      234568  \n",
       "4          58  "
      ]
     },
     "execution_count": 5,
     "metadata": {},
     "output_type": "execute_result"
    }
   ],
   "source": [
    "joined_df['config'].replace('d_','d_0', inplace=True)\n",
    "joined_df[joined_df['config'] == 'd_0']\n",
    "joined_df['combination']=joined_df['config'].str.split('_').str[1]\n",
    "joined_df['combination'] = joined_df['combination'].astype('category')\n",
    "joined_df.head()"
   ]
  },
  {
   "cell_type": "code",
   "execution_count": 6,
   "metadata": {},
   "outputs": [],
   "source": [
    "cols_of_interest = ['graph_id','Total Nodes','Crossings', 'combination','Status','Opttime']\n",
    "main_df = joined_df[cols_of_interest]\n",
    "\n",
    "np.random.seed(42)\n",
    "random_graph = np.random.randint(1, 1150, 100)\n",
    "random_graph\n",
    "\n",
    "main_df_sample = main_df[main_df['graph_id'].isin(random_graph)]\n"
   ]
  },
  {
   "cell_type": "code",
   "execution_count": 7,
   "metadata": {},
   "outputs": [
    {
     "data": {
      "text/plain": [
       "(50176, 3)"
      ]
     },
     "execution_count": 7,
     "metadata": {},
     "output_type": "execute_result"
    }
   ],
   "source": [
    "main_df_sample = main_df_sample[['combination','graph_id','Opttime']]\n",
    "main_df_sample['graph_id'] = main_df_sample['graph_id'].astype('category')\n",
    "main_df_sample.sort_values(by=['combination', 'graph_id'], inplace=True)\n",
    "main_df_sample.shape"
   ]
  },
  {
   "cell_type": "code",
   "execution_count": 8,
   "metadata": {},
   "outputs": [],
   "source": [
    "# Performing two-way ANOVA \n",
    "model_2 = ols('Opttime ~ C(combination) + C(graph_id)', data=main_df_sample).fit() \n"
   ]
  },
  {
   "cell_type": "code",
   "execution_count": 9,
   "metadata": {},
   "outputs": [
    {
     "name": "stdout",
     "output_type": "stream",
     "text": [
      "aov_table:\n",
      "                       sum_sq       df            F  PR(>F)\n",
      "C(combination)  1.062337e+06    511.0    29.110671     0.0\n",
      "C(graph_id)     3.062547e+07     97.0  4421.014267     0.0\n",
      "Residual        3.539824e+06  49567.0          NaN     NaN\n"
     ]
    }
   ],
   "source": [
    "\n",
    "aov_table_2 = sm.stats.anova_lm(model_2, typ=2)\n",
    "print(f\"aov_table:\\n {aov_table_2}\")"
   ]
  },
  {
   "cell_type": "markdown",
   "metadata": {},
   "source": [
    "# Testing Assumptions of Anova Model\n"
   ]
  },
  {
   "cell_type": "markdown",
   "metadata": {},
   "source": [
    "### Normality"
   ]
  },
  {
   "cell_type": "code",
   "execution_count": 10,
   "metadata": {},
   "outputs": [
    {
     "data": {
      "image/png": "[encoded data removed]",
      "text/plain": [
       "<Figure size 432x288 with 1 Axes>"
      ]
     },
     "metadata": {
      "needs_background": "light"
     },
     "output_type": "display_data"
    }
   ],
   "source": [
    "\n",
    "plt.hist(main_df_sample['Opttime'], bins='auto', color='skyblue', edgecolor='black')\n",
    "plt.title('Histogram of Opttime')\n",
    "plt.xlabel('Opttime')\n",
    "plt.ylabel('Frequency')\n",
    "plt.show()"
   ]
  },
  {
   "cell_type": "code",
   "execution_count": 11,
   "metadata": {},
   "outputs": [
    {
     "data": {
      "image/png": "[encoded data removed]",
      "text/plain": [
       "<Figure size 576x432 with 1 Axes>"
      ]
     },
     "metadata": {
      "needs_background": "light"
     },
     "output_type": "display_data"
    }
   ],
   "source": [
    "residuals = model_2.resid\n",
    "\n",
    "# Create Q-Q plot\n",
    "fig, ax = plt.subplots(figsize=(8, 6))\n",
    "sm.qqplot(residuals, line='s', ax=ax)\n",
    "\n",
    "# Add a straight diagonal line to the plot\n",
    "ax.set_title('Q-Q Plot')\n",
    "plt.show()"
   ]
  },
  {
   "cell_type": "code",
   "execution_count": 12,
   "metadata": {},
   "outputs": [
    {
     "name": "stdout",
     "output_type": "stream",
     "text": [
      "Shapiro-Wilk normality test:\n",
      "Statistic: 0.7109732627868652, p-value: 0.0\n"
     ]
    }
   ],
   "source": [
    "opttime_data = main_df_sample['Opttime']\n",
    "\n",
    "# Conduct the Shapiro-Wilk test\n",
    "statistic, p_value = shapiro(opttime_data)\n",
    "\n",
    "# Print the results\n",
    "print(\"Shapiro-Wilk normality test:\")\n",
    "print(f\"Statistic: {statistic}, p-value: {p_value}\")"
   ]
  },
  {
   "cell_type": "markdown",
   "metadata": {},
   "source": [
    "# Equal Variance"
   ]
  },
  {
   "cell_type": "code",
   "execution_count": 13,
   "metadata": {},
   "outputs": [
    {
     "data": {
      "image/png": "[encoded data removed]",
      "text/plain": [
       "<Figure size 5760x432 with 1 Axes>"
      ]
     },
     "metadata": {
      "needs_background": "light"
     },
     "output_type": "display_data"
    }
   ],
   "source": [
    "plt.figure(figsize=(80, 6))\n",
    "sns.boxplot(x='combination', y='Opttime', data=main_df_sample)\n",
    "plt.xlabel('Program')\n",
    "plt.ylabel('Weight Loss')\n",
    "plt.title('Distribution of Weight Loss for Each Program')\n",
    "plt.show()"
   ]
  },
  {
   "cell_type": "code",
   "execution_count": 14,
   "metadata": {},
   "outputs": [
    {
     "name": "stdout",
     "output_type": "stream",
     "text": [
      "Bartlett's test statistic: 784.4309130364289, p-value: 6.95550713427739e-14\n"
     ]
    }
   ],
   "source": [
    "statistic, p_value = bartlett(*[main_df_sample['Opttime'][main_df_sample['combination'] == combination] for combination in main_df_sample['combination'].unique()])\n",
    "print(f\"Bartlett's test statistic: {statistic}, p-value: {p_value}\")"
   ]
  },
  {
   "cell_type": "code",
   "execution_count": 15,
   "metadata": {},
   "outputs": [
    {
     "ename": "NameError",
     "evalue": "name 'combination_performance_characteristics' is not defined",
     "output_type": "error",
     "traceback": [
      "\u001b[0;31m---------------------------------------------------------------------------\u001b[0m",
      "\u001b[0;31mNameError\u001b[0m                                 Traceback (most recent call last)",
      "\u001b[1;32m/Users/kartikullal/Documents/Northeastern-University/Course/Statistical Methods for computer Science/Project/main/CS7200-project/Tests/ku_anova_assumptions.ipynb Cell 18\u001b[0m line \u001b[0;36m<cell line: 4>\u001b[0;34m()\u001b[0m\n\u001b[1;32m      <a href='vscode-notebook-cell:/Users/kartikullal/Documents/Northeastern-University/Course/Statistical%20Methods%20for%20computer%20Science/Project/main/CS7200-project/Tests/ku_anova_assumptions.ipynb#X23sZmlsZQ%3D%3D?line=0'>1</a>\u001b[0m combination_performance_status \u001b[39m=\u001b[39m main_df\u001b[39m.\u001b[39mgroupby(\u001b[39m'\u001b[39m\u001b[39mgraph_id\u001b[39m\u001b[39m'\u001b[39m)\u001b[39m.\u001b[39magg({\u001b[39m'\u001b[39m\u001b[39mStatus\u001b[39m\u001b[39m'\u001b[39m: \u001b[39mlambda\u001b[39;00m x: (x \u001b[39m==\u001b[39m \u001b[39m2\u001b[39m)\u001b[39m.\u001b[39mmean() \u001b[39m*\u001b[39m \u001b[39m100\u001b[39m})\n\u001b[1;32m      <a href='vscode-notebook-cell:/Users/kartikullal/Documents/Northeastern-University/Course/Statistical%20Methods%20for%20computer%20Science/Project/main/CS7200-project/Tests/ku_anova_assumptions.ipynb#X23sZmlsZQ%3D%3D?line=1'>2</a>\u001b[0m \u001b[39m# combination_performance_characteristics = main_df[main_df['Status'] == 2].groupby('graph_id').agg({'Opttime': 'mean', 'Crossings':'mean', 'Total Nodes': 'mean'})\u001b[39;00m\n\u001b[1;32m      <a href='vscode-notebook-cell:/Users/kartikullal/Documents/Northeastern-University/Course/Statistical%20Methods%20for%20computer%20Science/Project/main/CS7200-project/Tests/ku_anova_assumptions.ipynb#X23sZmlsZQ%3D%3D?line=3'>4</a>\u001b[0m combination_performance \u001b[39m=\u001b[39m pd\u001b[39m.\u001b[39mmerge(combination_performance_status, \n\u001b[0;32m----> <a href='vscode-notebook-cell:/Users/kartikullal/Documents/Northeastern-University/Course/Statistical%20Methods%20for%20computer%20Science/Project/main/CS7200-project/Tests/ku_anova_assumptions.ipynb#X23sZmlsZQ%3D%3D?line=4'>5</a>\u001b[0m          combination_performance_characteristics, \n\u001b[1;32m      <a href='vscode-notebook-cell:/Users/kartikullal/Documents/Northeastern-University/Course/Statistical%20Methods%20for%20computer%20Science/Project/main/CS7200-project/Tests/ku_anova_assumptions.ipynb#X23sZmlsZQ%3D%3D?line=5'>6</a>\u001b[0m          how\u001b[39m=\u001b[39m\u001b[39m'\u001b[39m\u001b[39minner\u001b[39m\u001b[39m'\u001b[39m, \n\u001b[1;32m      <a href='vscode-notebook-cell:/Users/kartikullal/Documents/Northeastern-University/Course/Statistical%20Methods%20for%20computer%20Science/Project/main/CS7200-project/Tests/ku_anova_assumptions.ipynb#X23sZmlsZQ%3D%3D?line=6'>7</a>\u001b[0m          left_index\u001b[39m=\u001b[39m\u001b[39mTrue\u001b[39;00m,\n\u001b[1;32m      <a href='vscode-notebook-cell:/Users/kartikullal/Documents/Northeastern-University/Course/Statistical%20Methods%20for%20computer%20Science/Project/main/CS7200-project/Tests/ku_anova_assumptions.ipynb#X23sZmlsZQ%3D%3D?line=7'>8</a>\u001b[0m          right_index\u001b[39m=\u001b[39m\u001b[39mTrue\u001b[39;00m\n\u001b[1;32m      <a href='vscode-notebook-cell:/Users/kartikullal/Documents/Northeastern-University/Course/Statistical%20Methods%20for%20computer%20Science/Project/main/CS7200-project/Tests/ku_anova_assumptions.ipynb#X23sZmlsZQ%3D%3D?line=8'>9</a>\u001b[0m )\n",
      "\u001b[0;31mNameError\u001b[0m: name 'combination_performance_characteristics' is not defined"
     ]
    }
   ],
   "source": [
    "combination_performance_status = main_df.groupby('graph_id').agg({'Status': lambda x: (x == 2).mean() * 100})\n",
    "# combination_performance_characteristics = main_df[main_df['Status'] == 2].groupby('graph_id').agg({'Opttime': 'mean', 'Crossings':'mean', 'Total Nodes': 'mean'})\n",
    "\n",
    "# combination_performance = pd.merge(combination_performance_status, \n",
    "#          combination_performance_characteristics, \n",
    "#          how='inner', \n",
    "#          left_index=True,\n",
    "#          right_index=True\n",
    ")"
   ]
  },
  {
   "cell_type": "code",
   "execution_count": 16,
   "metadata": {},
   "outputs": [
    {
     "data": {
      "text/html": [
       "<div>\n",
       "<style scoped>\n",
       "    .dataframe tbody tr th:only-of-type {\n",
       "        vertical-align: middle;\n",
       "    }\n",
       "\n",
       "    .dataframe tbody tr th {\n",
       "        vertical-align: top;\n",
       "    }\n",
       "\n",
       "    .dataframe thead th {\n",
       "        text-align: right;\n",
       "    }\n",
       "</style>\n",
       "<table border=\"1\" class=\"dataframe\">\n",
       "  <thead>\n",
       "    <tr style=\"text-align: right;\">\n",
       "      <th></th>\n",
       "      <th>Status</th>\n",
       "    </tr>\n",
       "    <tr>\n",
       "      <th>graph_id</th>\n",
       "      <th></th>\n",
       "    </tr>\n",
       "  </thead>\n",
       "  <tbody>\n",
       "    <tr>\n",
       "      <th>1</th>\n",
       "      <td>100.000000</td>\n",
       "    </tr>\n",
       "    <tr>\n",
       "      <th>2</th>\n",
       "      <td>100.000000</td>\n",
       "    </tr>\n",
       "    <tr>\n",
       "      <th>3</th>\n",
       "      <td>100.000000</td>\n",
       "    </tr>\n",
       "    <tr>\n",
       "      <th>4</th>\n",
       "      <td>100.000000</td>\n",
       "    </tr>\n",
       "    <tr>\n",
       "      <th>5</th>\n",
       "      <td>100.000000</td>\n",
       "    </tr>\n",
       "    <tr>\n",
       "      <th>...</th>\n",
       "      <td>...</td>\n",
       "    </tr>\n",
       "    <tr>\n",
       "      <th>1146</th>\n",
       "      <td>0.000000</td>\n",
       "    </tr>\n",
       "    <tr>\n",
       "      <th>1147</th>\n",
       "      <td>0.000000</td>\n",
       "    </tr>\n",
       "    <tr>\n",
       "      <th>1148</th>\n",
       "      <td>1.953125</td>\n",
       "    </tr>\n",
       "    <tr>\n",
       "      <th>1149</th>\n",
       "      <td>50.976562</td>\n",
       "    </tr>\n",
       "    <tr>\n",
       "      <th>1150</th>\n",
       "      <td>51.953125</td>\n",
       "    </tr>\n",
       "  </tbody>\n",
       "</table>\n",
       "<p>1150 rows × 1 columns</p>\n",
       "</div>"
      ],
      "text/plain": [
       "              Status\n",
       "graph_id            \n",
       "1         100.000000\n",
       "2         100.000000\n",
       "3         100.000000\n",
       "4         100.000000\n",
       "5         100.000000\n",
       "...              ...\n",
       "1146        0.000000\n",
       "1147        0.000000\n",
       "1148        1.953125\n",
       "1149       50.976562\n",
       "1150       51.953125\n",
       "\n",
       "[1150 rows x 1 columns]"
      ]
     },
     "execution_count": 16,
     "metadata": {},
     "output_type": "execute_result"
    }
   ],
   "source": [
    "combination_performance_status"
   ]
  },
  {
   "cell_type": "code",
   "execution_count": 22,
   "metadata": {},
   "outputs": [
    {
     "data": {
      "text/html": [
       "<div>\n",
       "<style scoped>\n",
       "    .dataframe tbody tr th:only-of-type {\n",
       "        vertical-align: middle;\n",
       "    }\n",
       "\n",
       "    .dataframe tbody tr th {\n",
       "        vertical-align: top;\n",
       "    }\n",
       "\n",
       "    .dataframe thead th {\n",
       "        text-align: right;\n",
       "    }\n",
       "</style>\n",
       "<table border=\"1\" class=\"dataframe\">\n",
       "  <thead>\n",
       "    <tr style=\"text-align: right;\">\n",
       "      <th></th>\n",
       "      <th>graph_id</th>\n",
       "      <th>Status</th>\n",
       "    </tr>\n",
       "  </thead>\n",
       "  <tbody>\n",
       "    <tr>\n",
       "      <th>0</th>\n",
       "      <td>1</td>\n",
       "      <td>100.0</td>\n",
       "    </tr>\n",
       "    <tr>\n",
       "      <th>1</th>\n",
       "      <td>2</td>\n",
       "      <td>100.0</td>\n",
       "    </tr>\n",
       "    <tr>\n",
       "      <th>2</th>\n",
       "      <td>3</td>\n",
       "      <td>100.0</td>\n",
       "    </tr>\n",
       "    <tr>\n",
       "      <th>3</th>\n",
       "      <td>4</td>\n",
       "      <td>100.0</td>\n",
       "    </tr>\n",
       "    <tr>\n",
       "      <th>4</th>\n",
       "      <td>5</td>\n",
       "      <td>100.0</td>\n",
       "    </tr>\n",
       "    <tr>\n",
       "      <th>...</th>\n",
       "      <td>...</td>\n",
       "      <td>...</td>\n",
       "    </tr>\n",
       "    <tr>\n",
       "      <th>588</th>\n",
       "      <td>911</td>\n",
       "      <td>100.0</td>\n",
       "    </tr>\n",
       "    <tr>\n",
       "      <th>589</th>\n",
       "      <td>926</td>\n",
       "      <td>100.0</td>\n",
       "    </tr>\n",
       "    <tr>\n",
       "      <th>590</th>\n",
       "      <td>935</td>\n",
       "      <td>100.0</td>\n",
       "    </tr>\n",
       "    <tr>\n",
       "      <th>591</th>\n",
       "      <td>946</td>\n",
       "      <td>100.0</td>\n",
       "    </tr>\n",
       "    <tr>\n",
       "      <th>592</th>\n",
       "      <td>992</td>\n",
       "      <td>100.0</td>\n",
       "    </tr>\n",
       "  </tbody>\n",
       "</table>\n",
       "<p>593 rows × 2 columns</p>\n",
       "</div>"
      ],
      "text/plain": [
       "     graph_id  Status\n",
       "0           1   100.0\n",
       "1           2   100.0\n",
       "2           3   100.0\n",
       "3           4   100.0\n",
       "4           5   100.0\n",
       "..        ...     ...\n",
       "588       911   100.0\n",
       "589       926   100.0\n",
       "590       935   100.0\n",
       "591       946   100.0\n",
       "592       992   100.0\n",
       "\n",
       "[593 rows x 2 columns]"
      ]
     },
     "execution_count": 22,
     "metadata": {},
     "output_type": "execute_result"
    }
   ],
   "source": [
    "temp1 = combination_performance_status[(combination_performance_status['Status']== 100)].reset_index()\n",
    "# temp = combination_performance_status[(combination_performance_status['Status']== 100) & (combination_performance['Crossings']!=0)].sort_values('Crossings', ascending=False).reset_index()\n",
    "# plt.hist(temp['Opttime'])\n",
    "\n",
    "temp1"
   ]
  },
  {
   "cell_type": "code",
   "execution_count": 23,
   "metadata": {},
   "outputs": [
    {
     "data": {
      "text/html": [
       "<div>\n",
       "<style scoped>\n",
       "    .dataframe tbody tr th:only-of-type {\n",
       "        vertical-align: middle;\n",
       "    }\n",
       "\n",
       "    .dataframe tbody tr th {\n",
       "        vertical-align: top;\n",
       "    }\n",
       "\n",
       "    .dataframe thead th {\n",
       "        text-align: right;\n",
       "    }\n",
       "</style>\n",
       "<table border=\"1\" class=\"dataframe\">\n",
       "  <thead>\n",
       "    <tr style=\"text-align: right;\">\n",
       "      <th></th>\n",
       "      <th>graph_id</th>\n",
       "      <th>Total Nodes</th>\n",
       "      <th>Crossings</th>\n",
       "      <th>combination</th>\n",
       "      <th>Status</th>\n",
       "      <th>Opttime</th>\n",
       "    </tr>\n",
       "  </thead>\n",
       "  <tbody>\n",
       "    <tr>\n",
       "      <th>6144</th>\n",
       "      <td>13</td>\n",
       "      <td>13</td>\n",
       "      <td>1</td>\n",
       "      <td>235689</td>\n",
       "      <td>2</td>\n",
       "      <td>0.001178</td>\n",
       "    </tr>\n",
       "    <tr>\n",
       "      <th>6145</th>\n",
       "      <td>13</td>\n",
       "      <td>13</td>\n",
       "      <td>1</td>\n",
       "      <td>158</td>\n",
       "      <td>2</td>\n",
       "      <td>0.001124</td>\n",
       "    </tr>\n",
       "    <tr>\n",
       "      <th>6146</th>\n",
       "      <td>13</td>\n",
       "      <td>13</td>\n",
       "      <td>1</td>\n",
       "      <td>1567</td>\n",
       "      <td>2</td>\n",
       "      <td>0.000671</td>\n",
       "    </tr>\n",
       "    <tr>\n",
       "      <th>6147</th>\n",
       "      <td>13</td>\n",
       "      <td>13</td>\n",
       "      <td>1</td>\n",
       "      <td>234568</td>\n",
       "      <td>2</td>\n",
       "      <td>0.000877</td>\n",
       "    </tr>\n",
       "    <tr>\n",
       "      <th>6148</th>\n",
       "      <td>13</td>\n",
       "      <td>13</td>\n",
       "      <td>1</td>\n",
       "      <td>58</td>\n",
       "      <td>2</td>\n",
       "      <td>0.001314</td>\n",
       "    </tr>\n",
       "    <tr>\n",
       "      <th>...</th>\n",
       "      <td>...</td>\n",
       "      <td>...</td>\n",
       "      <td>...</td>\n",
       "      <td>...</td>\n",
       "      <td>...</td>\n",
       "      <td>...</td>\n",
       "    </tr>\n",
       "    <tr>\n",
       "      <th>507899</th>\n",
       "      <td>992</td>\n",
       "      <td>205</td>\n",
       "      <td>18</td>\n",
       "      <td>124679</td>\n",
       "      <td>2</td>\n",
       "      <td>4.227329</td>\n",
       "    </tr>\n",
       "    <tr>\n",
       "      <th>507900</th>\n",
       "      <td>992</td>\n",
       "      <td>205</td>\n",
       "      <td>18</td>\n",
       "      <td>14589</td>\n",
       "      <td>2</td>\n",
       "      <td>3.849955</td>\n",
       "    </tr>\n",
       "    <tr>\n",
       "      <th>507901</th>\n",
       "      <td>992</td>\n",
       "      <td>205</td>\n",
       "      <td>18</td>\n",
       "      <td>69</td>\n",
       "      <td>2</td>\n",
       "      <td>11.412050</td>\n",
       "    </tr>\n",
       "    <tr>\n",
       "      <th>507902</th>\n",
       "      <td>992</td>\n",
       "      <td>205</td>\n",
       "      <td>18</td>\n",
       "      <td>169</td>\n",
       "      <td>2</td>\n",
       "      <td>7.752419</td>\n",
       "    </tr>\n",
       "    <tr>\n",
       "      <th>507903</th>\n",
       "      <td>992</td>\n",
       "      <td>205</td>\n",
       "      <td>18</td>\n",
       "      <td>357</td>\n",
       "      <td>2</td>\n",
       "      <td>11.891995</td>\n",
       "    </tr>\n",
       "  </tbody>\n",
       "</table>\n",
       "<p>242688 rows × 6 columns</p>\n",
       "</div>"
      ],
      "text/plain": [
       "        graph_id  Total Nodes  Crossings combination  Status    Opttime\n",
       "6144          13           13          1      235689       2   0.001178\n",
       "6145          13           13          1         158       2   0.001124\n",
       "6146          13           13          1        1567       2   0.000671\n",
       "6147          13           13          1      234568       2   0.000877\n",
       "6148          13           13          1          58       2   0.001314\n",
       "...          ...          ...        ...         ...     ...        ...\n",
       "507899       992          205         18      124679       2   4.227329\n",
       "507900       992          205         18       14589       2   3.849955\n",
       "507901       992          205         18          69       2  11.412050\n",
       "507902       992          205         18         169       2   7.752419\n",
       "507903       992          205         18         357       2  11.891995\n",
       "\n",
       "[242688 rows x 6 columns]"
      ]
     },
     "execution_count": 23,
     "metadata": {},
     "output_type": "execute_result"
    }
   ],
   "source": [
    "main_df_100 = main_df[(main_df['graph_id'].isin(temp1['graph_id'])) & (main_df['Crossings']!=0)]\n",
    "main_df_100"
   ]
  },
  {
   "cell_type": "markdown",
   "metadata": {},
   "source": [
    "## Sample 10"
   ]
  },
  {
   "cell_type": "code",
   "execution_count": 24,
   "metadata": {},
   "outputs": [
    {
     "data": {
      "text/html": [
       "<div>\n",
       "<style scoped>\n",
       "    .dataframe tbody tr th:only-of-type {\n",
       "        vertical-align: middle;\n",
       "    }\n",
       "\n",
       "    .dataframe tbody tr th {\n",
       "        vertical-align: top;\n",
       "    }\n",
       "\n",
       "    .dataframe thead th {\n",
       "        text-align: right;\n",
       "    }\n",
       "</style>\n",
       "<table border=\"1\" class=\"dataframe\">\n",
       "  <thead>\n",
       "    <tr style=\"text-align: right;\">\n",
       "      <th></th>\n",
       "      <th>combination</th>\n",
       "      <th>graph_id</th>\n",
       "      <th>Opttime</th>\n",
       "    </tr>\n",
       "  </thead>\n",
       "  <tbody>\n",
       "    <tr>\n",
       "      <th>41369</th>\n",
       "      <td>0</td>\n",
       "      <td>81</td>\n",
       "      <td>0.028714</td>\n",
       "    </tr>\n",
       "    <tr>\n",
       "      <th>73113</th>\n",
       "      <td>0</td>\n",
       "      <td>143</td>\n",
       "      <td>0.044123</td>\n",
       "    </tr>\n",
       "    <tr>\n",
       "      <th>100249</th>\n",
       "      <td>0</td>\n",
       "      <td>196</td>\n",
       "      <td>0.037327</td>\n",
       "    </tr>\n",
       "    <tr>\n",
       "      <th>143769</th>\n",
       "      <td>0</td>\n",
       "      <td>281</td>\n",
       "      <td>0.426516</td>\n",
       "    </tr>\n",
       "    <tr>\n",
       "      <th>168857</th>\n",
       "      <td>0</td>\n",
       "      <td>330</td>\n",
       "      <td>0.378632</td>\n",
       "    </tr>\n",
       "  </tbody>\n",
       "</table>\n",
       "</div>"
      ],
      "text/plain": [
       "       combination graph_id   Opttime\n",
       "41369            0       81  0.028714\n",
       "73113            0      143  0.044123\n",
       "100249           0      196  0.037327\n",
       "143769           0      281  0.426516\n",
       "168857           0      330  0.378632"
      ]
     },
     "execution_count": 24,
     "metadata": {},
     "output_type": "execute_result"
    }
   ],
   "source": [
    "sample_array = np.random.choice(main_df_100['graph_id'].unique(),10)\n",
    "main_df_sample = main_df_100[main_df_100['graph_id'].isin(sample_array)]\n",
    "main_df_sample = main_df_sample[['combination','graph_id','Opttime']]\n",
    "main_df_sample['graph_id'] = main_df_sample['graph_id'].astype('category')\n",
    "main_df_sample.sort_values(by=['combination', 'graph_id'], inplace=True)\n",
    "main_df_sample.head()"
   ]
  },
  {
   "cell_type": "code",
   "execution_count": 25,
   "metadata": {},
   "outputs": [
    {
     "data": {
      "text/plain": [
       "0        10\n",
       "1        10\n",
       "2479     10\n",
       "24789    10\n",
       "2478     10\n",
       "         ..\n",
       "13567    10\n",
       "1356     10\n",
       "135      10\n",
       "1349     10\n",
       "9        10\n",
       "Name: combination, Length: 512, dtype: int64"
      ]
     },
     "execution_count": 25,
     "metadata": {},
     "output_type": "execute_result"
    }
   ],
   "source": [
    "main_df_sample['combination'].value_counts()"
   ]
  },
  {
   "cell_type": "code",
   "execution_count": 26,
   "metadata": {},
   "outputs": [],
   "source": [
    "# Performing two-way ANOVA \n",
    "model_2 = ols('Opttime ~ C(combination) + C(graph_id)', data=main_df_sample).fit() \n"
   ]
  },
  {
   "cell_type": "code",
   "execution_count": 27,
   "metadata": {},
   "outputs": [
    {
     "name": "stdout",
     "output_type": "stream",
     "text": [
      "aov_table:\n",
      "                      sum_sq      df            F        PR(>F)\n",
      "C(combination)   900.307544   511.0     3.092184  4.402601e-88\n",
      "C(graph_id)     5217.770723     9.0  1017.507874  0.000000e+00\n",
      "Residual        2620.403151  4599.0          NaN           NaN\n"
     ]
    }
   ],
   "source": [
    "\n",
    "aov_table_2 = sm.stats.anova_lm(model_2, typ=2)\n",
    "print(f\"aov_table:\\n {aov_table_2}\")"
   ]
  },
  {
   "cell_type": "code",
   "execution_count": 28,
   "metadata": {},
   "outputs": [
    {
     "name": "stdout",
     "output_type": "stream",
     "text": [
      "F Statististic for combination = 3.092183694959794\n",
      "Critical Value for F test is 1.1116264082359908\n",
      "Conclude Alternate\n"
     ]
    }
   ],
   "source": [
    "alpha = 0.05\n",
    "df_a = aov_table_2['df'][0]\n",
    "df_b = aov_table_2['df'][1]\n",
    "df_ss = aov_table_2['df'][2]\n",
    "critical_value = f.ppf(1-alpha, df_a, df_ss)\n",
    "\n",
    "print(f\"F Statististic for combination = {aov_table_2['F'][0]}\")\n",
    "print(f\"Critical Value for F test is {critical_value}\")\n",
    "if(aov_table_2['F'][0] <= critical_value):\n",
    "    print(\"Comclude Null Hypothesis\")\n",
    "else:\n",
    "    print(\"Conclude Alternate\")"
   ]
  },
  {
   "cell_type": "markdown",
   "metadata": {},
   "source": [
    "## Sample 100"
   ]
  },
  {
   "cell_type": "code",
   "execution_count": 29,
   "metadata": {},
   "outputs": [
    {
     "data": {
      "text/plain": [
       "100"
      ]
     },
     "execution_count": 29,
     "metadata": {},
     "output_type": "execute_result"
    }
   ],
   "source": [
    "sample_array = np.random.choice(main_df_100['graph_id'].unique(),100, replace=False)\n",
    "len(sample_array)"
   ]
  },
  {
   "cell_type": "code",
   "execution_count": 30,
   "metadata": {},
   "outputs": [
    {
     "data": {
      "text/html": [
       "<div>\n",
       "<style scoped>\n",
       "    .dataframe tbody tr th:only-of-type {\n",
       "        vertical-align: middle;\n",
       "    }\n",
       "\n",
       "    .dataframe tbody tr th {\n",
       "        vertical-align: top;\n",
       "    }\n",
       "\n",
       "    .dataframe thead th {\n",
       "        text-align: right;\n",
       "    }\n",
       "</style>\n",
       "<table border=\"1\" class=\"dataframe\">\n",
       "  <thead>\n",
       "    <tr style=\"text-align: right;\">\n",
       "      <th></th>\n",
       "      <th>combination</th>\n",
       "      <th>graph_id</th>\n",
       "      <th>Opttime</th>\n",
       "    </tr>\n",
       "  </thead>\n",
       "  <tbody>\n",
       "    <tr>\n",
       "      <th>9113</th>\n",
       "      <td>0</td>\n",
       "      <td>18</td>\n",
       "      <td>0.013712</td>\n",
       "    </tr>\n",
       "    <tr>\n",
       "      <th>13721</th>\n",
       "      <td>0</td>\n",
       "      <td>27</td>\n",
       "      <td>0.013340</td>\n",
       "    </tr>\n",
       "    <tr>\n",
       "      <th>21401</th>\n",
       "      <td>0</td>\n",
       "      <td>42</td>\n",
       "      <td>0.017893</td>\n",
       "    </tr>\n",
       "    <tr>\n",
       "      <th>22425</th>\n",
       "      <td>0</td>\n",
       "      <td>44</td>\n",
       "      <td>0.032727</td>\n",
       "    </tr>\n",
       "    <tr>\n",
       "      <th>24473</th>\n",
       "      <td>0</td>\n",
       "      <td>48</td>\n",
       "      <td>0.021751</td>\n",
       "    </tr>\n",
       "  </tbody>\n",
       "</table>\n",
       "</div>"
      ],
      "text/plain": [
       "      combination graph_id   Opttime\n",
       "9113            0       18  0.013712\n",
       "13721           0       27  0.013340\n",
       "21401           0       42  0.017893\n",
       "22425           0       44  0.032727\n",
       "24473           0       48  0.021751"
      ]
     },
     "execution_count": 30,
     "metadata": {},
     "output_type": "execute_result"
    }
   ],
   "source": [
    "\n",
    "main_df_sample = main_df_100[main_df_100['graph_id'].isin(sample_array)]\n",
    "main_df_sample = main_df_sample[['combination','graph_id','Opttime']]\n",
    "main_df_sample['graph_id'] = main_df_sample['graph_id'].astype('category')\n",
    "main_df_sample.sort_values(by=['combination', 'graph_id'], inplace=True)\n",
    "main_df_sample.head()"
   ]
  },
  {
   "cell_type": "code",
   "execution_count": 31,
   "metadata": {},
   "outputs": [
    {
     "data": {
      "text/plain": [
       "0        100\n",
       "1        100\n",
       "2479     100\n",
       "24789    100\n",
       "2478     100\n",
       "        ... \n",
       "13567    100\n",
       "1356     100\n",
       "135      100\n",
       "1349     100\n",
       "9        100\n",
       "Name: combination, Length: 512, dtype: int64"
      ]
     },
     "execution_count": 31,
     "metadata": {},
     "output_type": "execute_result"
    }
   ],
   "source": [
    "main_df_sample['combination'].value_counts()"
   ]
  },
  {
   "cell_type": "code",
   "execution_count": 32,
   "metadata": {},
   "outputs": [],
   "source": [
    "# Performing two-way ANOVA \n",
    "model_2 = ols('Opttime ~ C(combination) + C(graph_id)', data=main_df_sample).fit() \n"
   ]
  },
  {
   "cell_type": "code",
   "execution_count": 33,
   "metadata": {},
   "outputs": [
    {
     "name": "stdout",
     "output_type": "stream",
     "text": [
      "aov_table:\n",
      "                        sum_sq       df           F  PR(>F)\n",
      "C(combination)   18906.242119    511.0   13.068281     0.0\n",
      "C(graph_id)     190671.977709     99.0  680.277048     0.0\n",
      "Residual        143226.029638  50589.0         NaN     NaN\n"
     ]
    }
   ],
   "source": [
    "\n",
    "aov_table_2 = sm.stats.anova_lm(model_2, typ=2)\n",
    "print(f\"aov_table:\\n {aov_table_2}\")"
   ]
  },
  {
   "cell_type": "code",
   "execution_count": 34,
   "metadata": {},
   "outputs": [
    {
     "name": "stdout",
     "output_type": "stream",
     "text": [
      "F Statististic for combination = 13.068280776505466\n",
      "Critical Value for F test is 1.1056875525331629\n",
      "Conclude Alternate\n"
     ]
    }
   ],
   "source": [
    "alpha = 0.05\n",
    "df_a = aov_table_2['df'][0]\n",
    "df_b = aov_table_2['df'][1]\n",
    "df_ss = aov_table_2['df'][2]\n",
    "critical_value = f.ppf(1-alpha, df_a, df_ss)\n",
    "\n",
    "print(f\"F Statististic for combination = {aov_table_2['F'][0]}\")\n",
    "print(f\"Critical Value for F test is {critical_value}\")\n",
    "if(aov_table_2['F'][0] <= critical_value):\n",
    "    print(\"Comclude Null Hypothesis\")\n",
    "else:\n",
    "    print(\"Conclude Alternate\")"
   ]
  },
  {
   "cell_type": "markdown",
   "metadata": {},
   "source": [
    "## Try All sucess"
   ]
  },
  {
   "cell_type": "code",
   "execution_count": 35,
   "metadata": {},
   "outputs": [],
   "source": [
    "# sample_array = np.random.choice(main_df_100['graph_id'].unique(),474, replace=False)\n",
    "# main_df_sample = main_df_100[main_df_100['graph_id'].isin(sample_array)]\n",
    "# main_df_sample = main_df_sample[['combination','graph_id','Opttime']]\n",
    "# main_df_sample['graph_id'] = main_df_sample['graph_id'].astype('category')\n",
    "# main_df_sample.sort_values(by=['combination', 'graph_id'], inplace=True)\n",
    "# main_df_sample.head()"
   ]
  },
  {
   "cell_type": "code",
   "execution_count": 36,
   "metadata": {},
   "outputs": [
    {
     "data": {
      "text/plain": [
       "0        100\n",
       "1        100\n",
       "2479     100\n",
       "24789    100\n",
       "2478     100\n",
       "        ... \n",
       "13567    100\n",
       "1356     100\n",
       "135      100\n",
       "1349     100\n",
       "9        100\n",
       "Name: combination, Length: 512, dtype: int64"
      ]
     },
     "execution_count": 36,
     "metadata": {},
     "output_type": "execute_result"
    }
   ],
   "source": [
    "main_df_sample['combination'].value_counts()"
   ]
  },
  {
   "cell_type": "code",
   "execution_count": 37,
   "metadata": {},
   "outputs": [],
   "source": [
    "# Performing two-way ANOVA \n",
    "model_2 = ols('Opttime ~ C(combination) + C(graph_id)', data=main_df_sample).fit() \n"
   ]
  },
  {
   "cell_type": "code",
   "execution_count": 38,
   "metadata": {},
   "outputs": [
    {
     "name": "stdout",
     "output_type": "stream",
     "text": [
      "aov_table:\n",
      "                        sum_sq       df           F  PR(>F)\n",
      "C(combination)   18906.242119    511.0   13.068281     0.0\n",
      "C(graph_id)     190671.977709     99.0  680.277048     0.0\n",
      "Residual        143226.029638  50589.0         NaN     NaN\n"
     ]
    }
   ],
   "source": [
    "\n",
    "aov_table_2 = sm.stats.anova_lm(model_2, typ=2)\n",
    "print(f\"aov_table:\\n {aov_table_2}\")"
   ]
  },
  {
   "cell_type": "code",
   "execution_count": 39,
   "metadata": {},
   "outputs": [
    {
     "name": "stdout",
     "output_type": "stream",
     "text": [
      "F Statististic for combination = 13.068280776505466\n",
      "Critical Value for F test is 1.1056875525331629\n",
      "Conclude Alternate\n"
     ]
    }
   ],
   "source": [
    "alpha = 0.05\n",
    "df_a = aov_table_2['df'][0]\n",
    "df_b = aov_table_2['df'][1]\n",
    "df_ss = aov_table_2['df'][2]\n",
    "critical_value = f.ppf(1-alpha, df_a, df_ss)\n",
    "\n",
    "print(f\"F Statististic for combination = {aov_table_2['F'][0]}\")\n",
    "print(f\"Critical Value for F test is {critical_value}\")\n",
    "if(aov_table_2['F'][0] <= critical_value):\n",
    "    print(\"Comclude Null Hypothesis\")\n",
    "else:\n",
    "    print(\"Conclude Alternate\")"
   ]
  },
  {
   "cell_type": "code",
   "execution_count": 40,
   "metadata": {},
   "outputs": [
    {
     "ename": "NameError",
     "evalue": "name 'temp' is not defined",
     "output_type": "error",
     "traceback": [
      "\u001b[0;31m---------------------------------------------------------------------------\u001b[0m",
      "\u001b[0;31mNameError\u001b[0m                                 Traceback (most recent call last)",
      "\u001b[1;32m/Users/kartikullal/Documents/Northeastern-University/Course/Statistical Methods for computer Science/Project/main/CS7200-project/Tests/ku_anova_assumptions.ipynb Cell 41\u001b[0m line \u001b[0;36m<cell line: 2>\u001b[0;34m()\u001b[0m\n\u001b[1;32m      <a href='vscode-notebook-cell:/Users/kartikullal/Documents/Northeastern-University/Course/Statistical%20Methods%20for%20computer%20Science/Project/main/CS7200-project/Tests/ku_anova_assumptions.ipynb#X54sZmlsZQ%3D%3D?line=0'>1</a>\u001b[0m \u001b[39m# Histogram\u001b[39;00m\n\u001b[0;32m----> <a href='vscode-notebook-cell:/Users/kartikullal/Documents/Northeastern-University/Course/Statistical%20Methods%20for%20computer%20Science/Project/main/CS7200-project/Tests/ku_anova_assumptions.ipynb#X54sZmlsZQ%3D%3D?line=1'>2</a>\u001b[0m sns\u001b[39m.\u001b[39mdisplot(temp[\u001b[39m'\u001b[39m\u001b[39mOpttime\u001b[39m\u001b[39m'\u001b[39m], kde\u001b[39m=\u001b[39m\u001b[39mTrue\u001b[39;00m, aspect\u001b[39m=\u001b[39m\u001b[39m10\u001b[39m\u001b[39m/\u001b[39m\u001b[39m6\u001b[39m)\n\u001b[1;32m      <a href='vscode-notebook-cell:/Users/kartikullal/Documents/Northeastern-University/Course/Statistical%20Methods%20for%20computer%20Science/Project/main/CS7200-project/Tests/ku_anova_assumptions.ipynb#X54sZmlsZQ%3D%3D?line=2'>3</a>\u001b[0m plt\u001b[39m.\u001b[39mtitle(\u001b[39m'\u001b[39m\u001b[39mHist Plot: Nodes vs Average Time\u001b[39m\u001b[39m'\u001b[39m)\n\u001b[1;32m      <a href='vscode-notebook-cell:/Users/kartikullal/Documents/Northeastern-University/Course/Statistical%20Methods%20for%20computer%20Science/Project/main/CS7200-project/Tests/ku_anova_assumptions.ipynb#X54sZmlsZQ%3D%3D?line=3'>4</a>\u001b[0m plt\u001b[39m.\u001b[39mshow()\n",
      "\u001b[0;31mNameError\u001b[0m: name 'temp' is not defined"
     ]
    }
   ],
   "source": [
    "# Histogram\n",
    "sns.displot(temp['Opttime'], kde=True, aspect=10/6)\n",
    "plt.title('Hist Plot: Nodes vs Average Time')\n",
    "plt.show()"
   ]
  },
  {
   "cell_type": "code",
   "execution_count": 41,
   "metadata": {},
   "outputs": [
    {
     "data": {
      "image/png": "[encoded data removed]",
      "text/plain": [
       "<Figure size 576x432 with 1 Axes>"
      ]
     },
     "metadata": {
      "needs_background": "light"
     },
     "output_type": "display_data"
    }
   ],
   "source": [
    "residuals = model_2.resid\n",
    "\n",
    "# Create Q-Q plot\n",
    "fig, ax = plt.subplots(figsize=(8, 6))\n",
    "sm.qqplot(residuals, line='s', ax=ax)\n",
    "\n",
    "# Add a straight diagonal line to the plot\n",
    "ax.set_title('Q-Q Plot')\n",
    "plt.show()"
   ]
  },
  {
   "cell_type": "code",
   "execution_count": 42,
   "metadata": {},
   "outputs": [
    {
     "data": {
      "image/png": "[encoded data removed]",
      "text/plain": [
       "<Figure size 600x360 with 1 Axes>"
      ]
     },
     "metadata": {
      "needs_background": "light"
     },
     "output_type": "display_data"
    }
   ],
   "source": [
    "fitted_data_1, fitted_lambda_1 = stats.boxcox(main_df_100['Opttime'])\n",
    "# Histogram\n",
    "sns.displot(fitted_data_1, kde=True, aspect=10/6)\n",
    "plt.title('Hist Plot: Nodes vs Average Time')\n",
    "plt.show()"
   ]
  },
  {
   "cell_type": "code",
   "execution_count": 44,
   "metadata": {},
   "outputs": [
    {
     "data": {
      "text/html": [
       "<div>\n",
       "<style scoped>\n",
       "    .dataframe tbody tr th:only-of-type {\n",
       "        vertical-align: middle;\n",
       "    }\n",
       "\n",
       "    .dataframe tbody tr th {\n",
       "        vertical-align: top;\n",
       "    }\n",
       "\n",
       "    .dataframe thead th {\n",
       "        text-align: right;\n",
       "    }\n",
       "</style>\n",
       "<table border=\"1\" class=\"dataframe\">\n",
       "  <thead>\n",
       "    <tr style=\"text-align: right;\">\n",
       "      <th></th>\n",
       "      <th>graph_id</th>\n",
       "      <th>Total Nodes</th>\n",
       "      <th>Crossings</th>\n",
       "      <th>combination</th>\n",
       "      <th>Status</th>\n",
       "      <th>Opttime</th>\n",
       "    </tr>\n",
       "  </thead>\n",
       "  <tbody>\n",
       "    <tr>\n",
       "      <th>6144</th>\n",
       "      <td>13</td>\n",
       "      <td>13</td>\n",
       "      <td>1</td>\n",
       "      <td>235689</td>\n",
       "      <td>2</td>\n",
       "      <td>-6.420087</td>\n",
       "    </tr>\n",
       "    <tr>\n",
       "      <th>6145</th>\n",
       "      <td>13</td>\n",
       "      <td>13</td>\n",
       "      <td>1</td>\n",
       "      <td>158</td>\n",
       "      <td>2</td>\n",
       "      <td>-6.462660</td>\n",
       "    </tr>\n",
       "    <tr>\n",
       "      <th>6146</th>\n",
       "      <td>13</td>\n",
       "      <td>13</td>\n",
       "      <td>1</td>\n",
       "      <td>1567</td>\n",
       "      <td>2</td>\n",
       "      <td>-6.927757</td>\n",
       "    </tr>\n",
       "    <tr>\n",
       "      <th>6147</th>\n",
       "      <td>13</td>\n",
       "      <td>13</td>\n",
       "      <td>1</td>\n",
       "      <td>234568</td>\n",
       "      <td>2</td>\n",
       "      <td>-6.686817</td>\n",
       "    </tr>\n",
       "    <tr>\n",
       "      <th>6148</th>\n",
       "      <td>13</td>\n",
       "      <td>13</td>\n",
       "      <td>1</td>\n",
       "      <td>58</td>\n",
       "      <td>2</td>\n",
       "      <td>-6.321143</td>\n",
       "    </tr>\n",
       "    <tr>\n",
       "      <th>...</th>\n",
       "      <td>...</td>\n",
       "      <td>...</td>\n",
       "      <td>...</td>\n",
       "      <td>...</td>\n",
       "      <td>...</td>\n",
       "      <td>...</td>\n",
       "    </tr>\n",
       "    <tr>\n",
       "      <th>507899</th>\n",
       "      <td>992</td>\n",
       "      <td>205</td>\n",
       "      <td>18</td>\n",
       "      <td>124679</td>\n",
       "      <td>2</td>\n",
       "      <td>1.456969</td>\n",
       "    </tr>\n",
       "    <tr>\n",
       "      <th>507900</th>\n",
       "      <td>992</td>\n",
       "      <td>205</td>\n",
       "      <td>18</td>\n",
       "      <td>14589</td>\n",
       "      <td>2</td>\n",
       "      <td>1.361521</td>\n",
       "    </tr>\n",
       "    <tr>\n",
       "      <th>507901</th>\n",
       "      <td>992</td>\n",
       "      <td>205</td>\n",
       "      <td>18</td>\n",
       "      <td>69</td>\n",
       "      <td>2</td>\n",
       "      <td>2.478809</td>\n",
       "    </tr>\n",
       "    <tr>\n",
       "      <th>507902</th>\n",
       "      <td>992</td>\n",
       "      <td>205</td>\n",
       "      <td>18</td>\n",
       "      <td>169</td>\n",
       "      <td>2</td>\n",
       "      <td>2.079178</td>\n",
       "    </tr>\n",
       "    <tr>\n",
       "      <th>507903</th>\n",
       "      <td>992</td>\n",
       "      <td>205</td>\n",
       "      <td>18</td>\n",
       "      <td>357</td>\n",
       "      <td>2</td>\n",
       "      <td>2.521520</td>\n",
       "    </tr>\n",
       "  </tbody>\n",
       "</table>\n",
       "<p>242688 rows × 6 columns</p>\n",
       "</div>"
      ],
      "text/plain": [
       "        graph_id  Total Nodes  Crossings combination  Status   Opttime\n",
       "6144          13           13          1      235689       2 -6.420087\n",
       "6145          13           13          1         158       2 -6.462660\n",
       "6146          13           13          1        1567       2 -6.927757\n",
       "6147          13           13          1      234568       2 -6.686817\n",
       "6148          13           13          1          58       2 -6.321143\n",
       "...          ...          ...        ...         ...     ...       ...\n",
       "507899       992          205         18      124679       2  1.456969\n",
       "507900       992          205         18       14589       2  1.361521\n",
       "507901       992          205         18          69       2  2.478809\n",
       "507902       992          205         18         169       2  2.079178\n",
       "507903       992          205         18         357       2  2.521520\n",
       "\n",
       "[242688 rows x 6 columns]"
      ]
     },
     "execution_count": 44,
     "metadata": {},
     "output_type": "execute_result"
    }
   ],
   "source": [
    "temp_transformed = main_df_100\n",
    "temp_transformed['Opttime'] = fitted_data_1\n",
    "\n",
    "temp_transformed"
   ]
  },
  {
   "cell_type": "code",
   "execution_count": 45,
   "metadata": {},
   "outputs": [
    {
     "data": {
      "text/html": [
       "<div>\n",
       "<style scoped>\n",
       "    .dataframe tbody tr th:only-of-type {\n",
       "        vertical-align: middle;\n",
       "    }\n",
       "\n",
       "    .dataframe tbody tr th {\n",
       "        vertical-align: top;\n",
       "    }\n",
       "\n",
       "    .dataframe thead th {\n",
       "        text-align: right;\n",
       "    }\n",
       "</style>\n",
       "<table border=\"1\" class=\"dataframe\">\n",
       "  <thead>\n",
       "    <tr style=\"text-align: right;\">\n",
       "      <th></th>\n",
       "      <th>combination</th>\n",
       "      <th>graph_id</th>\n",
       "      <th>Opttime</th>\n",
       "    </tr>\n",
       "  </thead>\n",
       "  <tbody>\n",
       "    <tr>\n",
       "      <th>6553</th>\n",
       "      <td>0</td>\n",
       "      <td>13</td>\n",
       "      <td>0.011049</td>\n",
       "    </tr>\n",
       "    <tr>\n",
       "      <th>7065</th>\n",
       "      <td>0</td>\n",
       "      <td>14</td>\n",
       "      <td>0.012947</td>\n",
       "    </tr>\n",
       "    <tr>\n",
       "      <th>9113</th>\n",
       "      <td>0</td>\n",
       "      <td>18</td>\n",
       "      <td>0.013712</td>\n",
       "    </tr>\n",
       "    <tr>\n",
       "      <th>10649</th>\n",
       "      <td>0</td>\n",
       "      <td>21</td>\n",
       "      <td>0.020972</td>\n",
       "    </tr>\n",
       "    <tr>\n",
       "      <th>11161</th>\n",
       "      <td>0</td>\n",
       "      <td>22</td>\n",
       "      <td>0.020437</td>\n",
       "    </tr>\n",
       "  </tbody>\n",
       "</table>\n",
       "</div>"
      ],
      "text/plain": [
       "      combination graph_id   Opttime\n",
       "6553            0       13  0.011049\n",
       "7065            0       14  0.012947\n",
       "9113            0       18  0.013712\n",
       "10649           0       21  0.020972\n",
       "11161           0       22  0.020437"
      ]
     },
     "execution_count": 45,
     "metadata": {},
     "output_type": "execute_result"
    }
   ],
   "source": [
    "transformed_df_100 = main_df[main_df['graph_id'].isin(temp_transformed['graph_id'])]\n",
    "sample_array = np.random.choice(transformed_df_100['graph_id'].unique(),400, replace=False)\n",
    "\n",
    "# transformed_df_sample = transformed_df_100[transformed_df_100['graph_id'].isin(sample_array)]\n",
    "transformed_df_sample = transformed_df_100[['combination','graph_id','Opttime']]\n",
    "transformed_df_sample['graph_id'] = transformed_df_sample['graph_id'].astype('category')\n",
    "transformed_df_sample.sort_values(by=['combination', 'graph_id'], inplace=True)\n",
    "transformed_df_sample.head()"
   ]
  },
  {
   "cell_type": "code",
   "execution_count": 46,
   "metadata": {},
   "outputs": [
    {
     "ename": "KeyboardInterrupt",
     "evalue": "",
     "output_type": "error",
     "traceback": [
      "\u001b[0;31m---------------------------------------------------------------------------\u001b[0m",
      "\u001b[0;31mKeyboardInterrupt\u001b[0m                         Traceback (most recent call last)",
      "\u001b[1;32m/Users/kartikullal/Documents/Northeastern-University/Course/Statistical Methods for computer Science/Project/main/CS7200-project/Tests/ku_anova_assumptions.ipynb Cell 46\u001b[0m line \u001b[0;36m<cell line: 2>\u001b[0;34m()\u001b[0m\n\u001b[1;32m      <a href='vscode-notebook-cell:/Users/kartikullal/Documents/Northeastern-University/Course/Statistical%20Methods%20for%20computer%20Science/Project/main/CS7200-project/Tests/ku_anova_assumptions.ipynb#X65sZmlsZQ%3D%3D?line=0'>1</a>\u001b[0m \u001b[39m# Performing two-way ANOVA \u001b[39;00m\n\u001b[0;32m----> <a href='vscode-notebook-cell:/Users/kartikullal/Documents/Northeastern-University/Course/Statistical%20Methods%20for%20computer%20Science/Project/main/CS7200-project/Tests/ku_anova_assumptions.ipynb#X65sZmlsZQ%3D%3D?line=1'>2</a>\u001b[0m model_2 \u001b[39m=\u001b[39m ols(\u001b[39m'\u001b[39;49m\u001b[39mOpttime ~ C(combination) + C(graph_id)\u001b[39;49m\u001b[39m'\u001b[39;49m, data\u001b[39m=\u001b[39;49mtransformed_df_sample)\u001b[39m.\u001b[39;49mfit()\n",
      "File \u001b[0;32m~/opt/anaconda3/lib/python3.8/site-packages/statsmodels/regression/linear_model.py:306\u001b[0m, in \u001b[0;36mRegressionModel.fit\u001b[0;34m(self, method, cov_type, cov_kwds, use_t, **kwargs)\u001b[0m\n\u001b[1;32m    301\u001b[0m \u001b[39mif\u001b[39;00m method \u001b[39m==\u001b[39m \u001b[39m\"\u001b[39m\u001b[39mpinv\u001b[39m\u001b[39m\"\u001b[39m:\n\u001b[1;32m    302\u001b[0m     \u001b[39mif\u001b[39;00m \u001b[39mnot\u001b[39;00m (\u001b[39mhasattr\u001b[39m(\u001b[39mself\u001b[39m, \u001b[39m'\u001b[39m\u001b[39mpinv_wexog\u001b[39m\u001b[39m'\u001b[39m) \u001b[39mand\u001b[39;00m\n\u001b[1;32m    303\u001b[0m             \u001b[39mhasattr\u001b[39m(\u001b[39mself\u001b[39m, \u001b[39m'\u001b[39m\u001b[39mnormalized_cov_params\u001b[39m\u001b[39m'\u001b[39m) \u001b[39mand\u001b[39;00m\n\u001b[1;32m    304\u001b[0m             \u001b[39mhasattr\u001b[39m(\u001b[39mself\u001b[39m, \u001b[39m'\u001b[39m\u001b[39mrank\u001b[39m\u001b[39m'\u001b[39m)):\n\u001b[0;32m--> 306\u001b[0m         \u001b[39mself\u001b[39m\u001b[39m.\u001b[39mpinv_wexog, singular_values \u001b[39m=\u001b[39m pinv_extended(\u001b[39mself\u001b[39;49m\u001b[39m.\u001b[39;49mwexog)\n\u001b[1;32m    307\u001b[0m         \u001b[39mself\u001b[39m\u001b[39m.\u001b[39mnormalized_cov_params \u001b[39m=\u001b[39m np\u001b[39m.\u001b[39mdot(\n\u001b[1;32m    308\u001b[0m             \u001b[39mself\u001b[39m\u001b[39m.\u001b[39mpinv_wexog, np\u001b[39m.\u001b[39mtranspose(\u001b[39mself\u001b[39m\u001b[39m.\u001b[39mpinv_wexog))\n\u001b[1;32m    310\u001b[0m         \u001b[39m# Cache these singular values for use later.\u001b[39;00m\n",
      "File \u001b[0;32m~/opt/anaconda3/lib/python3.8/site-packages/statsmodels/tools/tools.py:339\u001b[0m, in \u001b[0;36mpinv_extended\u001b[0;34m(x, rcond)\u001b[0m\n\u001b[1;32m    337\u001b[0m x \u001b[39m=\u001b[39m np\u001b[39m.\u001b[39masarray(x)\n\u001b[1;32m    338\u001b[0m x \u001b[39m=\u001b[39m x\u001b[39m.\u001b[39mconjugate()\n\u001b[0;32m--> 339\u001b[0m u, s, vt \u001b[39m=\u001b[39m np\u001b[39m.\u001b[39;49mlinalg\u001b[39m.\u001b[39;49msvd(x, \u001b[39mFalse\u001b[39;49;00m)\n\u001b[1;32m    340\u001b[0m s_orig \u001b[39m=\u001b[39m np\u001b[39m.\u001b[39mcopy(s)\n\u001b[1;32m    341\u001b[0m m \u001b[39m=\u001b[39m u\u001b[39m.\u001b[39mshape[\u001b[39m0\u001b[39m]\n",
      "File \u001b[0;32m<__array_function__ internals>:5\u001b[0m, in \u001b[0;36msvd\u001b[0;34m(*args, **kwargs)\u001b[0m\n",
      "File \u001b[0;32m~/opt/anaconda3/lib/python3.8/site-packages/numpy/linalg/linalg.py:1660\u001b[0m, in \u001b[0;36msvd\u001b[0;34m(a, full_matrices, compute_uv, hermitian)\u001b[0m\n\u001b[1;32m   1657\u001b[0m         gufunc \u001b[39m=\u001b[39m _umath_linalg\u001b[39m.\u001b[39msvd_n_s\n\u001b[1;32m   1659\u001b[0m signature \u001b[39m=\u001b[39m \u001b[39m'\u001b[39m\u001b[39mD->DdD\u001b[39m\u001b[39m'\u001b[39m \u001b[39mif\u001b[39;00m isComplexType(t) \u001b[39melse\u001b[39;00m \u001b[39m'\u001b[39m\u001b[39md->ddd\u001b[39m\u001b[39m'\u001b[39m\n\u001b[0;32m-> 1660\u001b[0m u, s, vh \u001b[39m=\u001b[39m gufunc(a, signature\u001b[39m=\u001b[39;49msignature, extobj\u001b[39m=\u001b[39;49mextobj)\n\u001b[1;32m   1661\u001b[0m u \u001b[39m=\u001b[39m u\u001b[39m.\u001b[39mastype(result_t, copy\u001b[39m=\u001b[39m\u001b[39mFalse\u001b[39;00m)\n\u001b[1;32m   1662\u001b[0m s \u001b[39m=\u001b[39m s\u001b[39m.\u001b[39mastype(_realType(result_t), copy\u001b[39m=\u001b[39m\u001b[39mFalse\u001b[39;00m)\n",
      "\u001b[0;31mKeyboardInterrupt\u001b[0m: "
     ]
    }
   ],
   "source": [
    "# Performing two-way ANOVA \n",
    "model_2 = ols('Opttime ~ C(combination) + C(graph_id)', data=transformed_df_sample).fit() \n"
   ]
  },
  {
   "cell_type": "code",
   "execution_count": null,
   "metadata": {},
   "outputs": [
    {
     "name": "stdout",
     "output_type": "stream",
     "text": [
      "aov_table:\n",
      "                        sum_sq        df           F  PR(>F)\n",
      "C(combination)   45777.689341     511.0   28.673817     0.0\n",
      "C(graph_id)     390801.002239     199.0  628.572157     0.0\n",
      "Residual        317703.082822  101689.0         NaN     NaN\n"
     ]
    }
   ],
   "source": [
    "\n",
    "aov_table_2 = sm.stats.anova_lm(model_2, typ=2)\n",
    "print(f\"aov_table:\\n {aov_table_2}\")"
   ]
  },
  {
   "cell_type": "code",
   "execution_count": null,
   "metadata": {},
   "outputs": [
    {
     "name": "stdout",
     "output_type": "stream",
     "text": [
      "F Statististic for combination = 28.673817383166163\n",
      "Critical Value for F test is 1.1053828137872055\n",
      "Conclude Alternate\n"
     ]
    }
   ],
   "source": [
    "alpha = 0.05\n",
    "df_a = aov_table_2['df'][0]\n",
    "df_b = aov_table_2['df'][1]\n",
    "df_ss = aov_table_2['df'][2]\n",
    "critical_value = f.ppf(1-alpha, df_a, df_ss)\n",
    "\n",
    "print(f\"F Statististic for combination = {aov_table_2['F'][0]}\")\n",
    "print(f\"Critical Value for F test is {critical_value}\")\n",
    "if(aov_table_2['F'][0] <= critical_value):\n",
    "    print(\"Comclude Null Hypothesis\")\n",
    "else:\n",
    "    print(\"Conclude Alternate\")"
   ]
  },
  {
   "cell_type": "code",
   "execution_count": null,
   "metadata": {},
   "outputs": [
    {
     "data": {
      "image/png": "[encoded data removed]",
      "text/plain": [
       "<Figure size 576x432 with 1 Axes>"
      ]
     },
     "metadata": {},
     "output_type": "display_data"
    }
   ],
   "source": [
    "residuals = model_2.resid\n",
    "\n",
    "# Create Q-Q plot\n",
    "fig, ax = plt.subplots(figsize=(8, 6))\n",
    "sm.qqplot(residuals, line='s', ax=ax)\n",
    "\n",
    "# Add a straight diagonal line to the plot\n",
    "ax.set_title('Q-Q Plot')\n",
    "plt.show()"
   ]
  },
  {
   "cell_type": "code",
   "execution_count": null,
   "metadata": {},
   "outputs": [],
   "source": [
    "fitted = model_2.fittedvalues"
   ]
  },
  {
   "cell_type": "code",
   "execution_count": null,
   "metadata": {},
   "outputs": [
    {
     "data": {
      "text/plain": [
       "<AxesSubplot:>"
      ]
     },
     "execution_count": 91,
     "metadata": {},
     "output_type": "execute_result"
    },
    {
     "data": {
      "image/png": "[encoded data removed]",
      "text/plain": [
       "<Figure size 432x288 with 1 Axes>"
      ]
     },
     "metadata": {},
     "output_type": "display_data"
    }
   ],
   "source": [
    "sns.scatterplot(x=fitted, y=residuals)"
   ]
  },
  {
   "cell_type": "code",
   "execution_count": null,
   "metadata": {},
   "outputs": [
    {
     "data": {
      "image/png": "[encoded data removed]",
      "text/plain": [
       "<Figure size 720x432 with 1 Axes>"
      ]
     },
     "metadata": {},
     "output_type": "display_data"
    }
   ],
   "source": [
    "sample_array = np.random.choice(main_df_100['combination'].unique(),5, replace=False)\n",
    "\n",
    "main_df_100_sample = main_df_100[main_df_100['combination'].isin(sample_array)]\n",
    "\n",
    "plt.figure(figsize=(10, 6))\n",
    "sns.boxplot(x='combination', y='Opttime', data=main_df_100_sample)\n",
    "plt.xticks([])\n",
    "plt.xlabel('Program')\n",
    "plt.ylabel('Weight Loss')\n",
    "plt.title('Distribution of Weight Loss for Each Program')\n",
    "plt.show()"
   ]
  },
  {
   "cell_type": "code",
   "execution_count": null,
   "metadata": {},
   "outputs": [],
   "source": []
  },
  {
   "cell_type": "code",
   "execution_count": null,
   "metadata": {},
   "outputs": [
    {
     "name": "stdout",
     "output_type": "stream",
     "text": [
      "Bartlett's test statistic: 133488.9032617315, p-value: 0.0\n"
     ]
    }
   ],
   "source": [
    "statistic, p_value = bartlett(*[main_df_100['Opttime'][main_df_100['combination'] == combination] for combination in main_df_100['combination'].unique()])\n",
    "print(f\"Bartlett's test statistic: {statistic}, p-value: {p_value}\")"
   ]
  },
  {
   "cell_type": "code",
   "execution_count": null,
   "metadata": {},
   "outputs": [],
   "source": []
  },
  {
   "cell_type": "code",
   "execution_count": null,
   "metadata": {},
   "outputs": [],
   "source": []
  },
  {
   "cell_type": "code",
   "execution_count": null,
   "metadata": {},
   "outputs": [],
   "source": []
  }
 ],
 "metadata": {
  "kernelspec": {
   "display_name": "base",
   "language": "python",
   "name": "python3"
  },
  "language_info": {
   "codemirror_mode": {
    "name": "ipython",
    "version": 3
   },
   "file_extension": ".py",
   "mimetype": "text/x-python",
   "name": "python",
   "nbconvert_exporter": "python",
   "pygments_lexer": "ipython3",
   "version": "3.8.13"
  }
 },
 "nbformat": 4,
 "nbformat_minor": 2
}
