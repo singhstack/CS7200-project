{
 "cells": [
  {
   "cell_type": "code",
   "execution_count": 22,
   "metadata": {},
   "outputs": [],
   "source": [
    "import numpy as np\n",
    "import pandas as pd\n",
    "import os\n",
    "\n",
    "\n",
    "def create_data(folder_path):\n",
    "    dfs = []\n",
    "    problematic_files = []\n",
    "    for filename in os.listdir(folder_path):\n",
    "        if filename.endswith(\".csv\"):\n",
    "            #print(filename)\n",
    "            file_path = os.path.join(folder_path,filename)\n",
    "            try:\n",
    "                df = pd.read_csv(file_path)\n",
    "                df['config'] = filename.split(\".\")[0]  #Add config column to df\n",
    "                dfs.append(df)\n",
    "            except pd.errors.ParserError:\n",
    "                # Handle the problematic file here or simply skip it\n",
    "                #print(f\"Error reading {filename}, skipping...\")\n",
    "                problematic_files.append(filename)\n",
    "    if problematic_files:\n",
    "        #print(f\"Encountered issues with {len(problematic_files)} out of 512, namely: {problematic_files}\")\n",
    "        pass\n",
    "    final_df = pd.concat(dfs,ignore_index=True)\n",
    "    return final_df\n"
   ]
  },
  {
   "cell_type": "code",
   "execution_count": 23,
   "metadata": {},
   "outputs": [
    {
     "name": "stdout",
     "output_type": "stream",
     "text": [
      "/Users/kartikullal/Documents/Northeastern-University/Course/Statistical Methods for computer Science/Project/main/CS7200-project/data\n"
     ]
    }
   ],
   "source": [
    "direct_folder_path = \"direct_transitivity\"\n",
    "direct_df = create_data(direct_folder_path)\n",
    "direct_df.to_csv('direct_transitivity_data.csv',index = False)"
   ]
  },
  {
   "cell_type": "code",
   "execution_count": 25,
   "metadata": {},
   "outputs": [
    {
     "name": "stdout",
     "output_type": "stream",
     "text": [
      "/Users/kartikullal/Documents/Northeastern-University/Course/Statistical Methods for computer Science/Project/main/CS7200-project/data\n"
     ]
    }
   ],
   "source": [
    "vertical_folder_path = \"vertical_transitivity\"\n",
    "vertical_df = create_data(vertical_folder_path)\n",
    "vertical_df.to_csv('vertical_transitivity_data.csv',index = False)"
   ]
  },
  {
   "cell_type": "code",
   "execution_count": null,
   "metadata": {},
   "outputs": [],
   "source": []
  }
 ],
 "metadata": {
  "kernelspec": {
   "display_name": "Python 3.7.11 ('smoothenv')",
   "language": "python",
   "name": "python3"
  },
  "language_info": {
   "codemirror_mode": {
    "name": "ipython",
    "version": 3
   },
   "file_extension": ".py",
   "mimetype": "text/x-python",
   "name": "python",
   "nbconvert_exporter": "python",
   "pygments_lexer": "ipython3",
   "version": "3.8.13"
  },
  "orig_nbformat": 4,
  "vscode": {
   "interpreter": {
    "hash": "ccbb5ec2d2a75591ebe5fca0a133e85ca5a4057852e563373f3397512e082f6c"
   }
  }
 },
 "nbformat": 4,
 "nbformat_minor": 2
}
