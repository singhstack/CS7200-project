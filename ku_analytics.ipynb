{
 "cells": [
  {
   "cell_type": "code",
   "execution_count": 81,
   "metadata": {},
   "outputs": [],
   "source": [
    "import pandas as pd\n",
    "import matplotlib.pyplot as plt\n",
    "import numpy as np\n",
    "from scipy import stats"
   ]
  },
  {
   "cell_type": "code",
   "execution_count": 82,
   "metadata": {},
   "outputs": [
    {
     "data": {
      "text/html": [
       "<div>\n",
       "<style scoped>\n",
       "    .dataframe tbody tr th:only-of-type {\n",
       "        vertical-align: middle;\n",
       "    }\n",
       "\n",
       "    .dataframe tbody tr th {\n",
       "        vertical-align: top;\n",
       "    }\n",
       "\n",
       "    .dataframe thead th {\n",
       "        text-align: right;\n",
       "    }\n",
       "</style>\n",
       "<table border=\"1\" class=\"dataframe\">\n",
       "  <thead>\n",
       "    <tr style=\"text-align: right;\">\n",
       "      <th></th>\n",
       "      <th>Index</th>\n",
       "      <th>File</th>\n",
       "      <th>Nodes</th>\n",
       "      <th>Total Nodes</th>\n",
       "      <th>Butterflies</th>\n",
       "      <th>X-vars</th>\n",
       "      <th>C-vars</th>\n",
       "      <th>Total vars</th>\n",
       "      <th>Total constraints</th>\n",
       "      <th>Crossings</th>\n",
       "      <th>Opttime</th>\n",
       "      <th>Status</th>\n",
       "      <th>Nodes visited</th>\n",
       "      <th>Setup Time</th>\n",
       "      <th>config</th>\n",
       "    </tr>\n",
       "  </thead>\n",
       "  <tbody>\n",
       "    <tr>\n",
       "      <th>0</th>\n",
       "      <td>0</td>\n",
       "      <td>north/g.10.72.graphml</td>\n",
       "      <td>10</td>\n",
       "      <td>12</td>\n",
       "      <td>0</td>\n",
       "      <td>8</td>\n",
       "      <td>7</td>\n",
       "      <td>15</td>\n",
       "      <td>20</td>\n",
       "      <td>0</td>\n",
       "      <td>0.000556</td>\n",
       "      <td>2</td>\n",
       "      <td>0</td>\n",
       "      <td>0.020</td>\n",
       "      <td>d_235689</td>\n",
       "    </tr>\n",
       "    <tr>\n",
       "      <th>1</th>\n",
       "      <td>1</td>\n",
       "      <td>north/g.13.45.graphml</td>\n",
       "      <td>13</td>\n",
       "      <td>13</td>\n",
       "      <td>0</td>\n",
       "      <td>6</td>\n",
       "      <td>2</td>\n",
       "      <td>8</td>\n",
       "      <td>8</td>\n",
       "      <td>0</td>\n",
       "      <td>0.000291</td>\n",
       "      <td>2</td>\n",
       "      <td>0</td>\n",
       "      <td>0.001</td>\n",
       "      <td>d_235689</td>\n",
       "    </tr>\n",
       "    <tr>\n",
       "      <th>2</th>\n",
       "      <td>2</td>\n",
       "      <td>north/g.10.11.graphml</td>\n",
       "      <td>10</td>\n",
       "      <td>10</td>\n",
       "      <td>0</td>\n",
       "      <td>15</td>\n",
       "      <td>0</td>\n",
       "      <td>15</td>\n",
       "      <td>40</td>\n",
       "      <td>0</td>\n",
       "      <td>0.000040</td>\n",
       "      <td>2</td>\n",
       "      <td>0</td>\n",
       "      <td>0.002</td>\n",
       "      <td>d_235689</td>\n",
       "    </tr>\n",
       "    <tr>\n",
       "      <th>3</th>\n",
       "      <td>3</td>\n",
       "      <td>Rome-Lib/graficon11nodi/grafo233.11</td>\n",
       "      <td>11</td>\n",
       "      <td>18</td>\n",
       "      <td>0</td>\n",
       "      <td>15</td>\n",
       "      <td>12</td>\n",
       "      <td>27</td>\n",
       "      <td>36</td>\n",
       "      <td>0</td>\n",
       "      <td>0.002283</td>\n",
       "      <td>2</td>\n",
       "      <td>0</td>\n",
       "      <td>0.003</td>\n",
       "      <td>d_235689</td>\n",
       "    </tr>\n",
       "    <tr>\n",
       "      <th>4</th>\n",
       "      <td>4</td>\n",
       "      <td>Rome-Lib/graficon12nodi/grafo2240.12</td>\n",
       "      <td>12</td>\n",
       "      <td>16</td>\n",
       "      <td>0</td>\n",
       "      <td>12</td>\n",
       "      <td>11</td>\n",
       "      <td>23</td>\n",
       "      <td>30</td>\n",
       "      <td>0</td>\n",
       "      <td>0.000364</td>\n",
       "      <td>2</td>\n",
       "      <td>0</td>\n",
       "      <td>0.002</td>\n",
       "      <td>d_235689</td>\n",
       "    </tr>\n",
       "  </tbody>\n",
       "</table>\n",
       "</div>"
      ],
      "text/plain": [
       "   Index                                  File  Nodes  Total Nodes  \\\n",
       "0      0                 north/g.10.72.graphml     10           12   \n",
       "1      1                 north/g.13.45.graphml     13           13   \n",
       "2      2                 north/g.10.11.graphml     10           10   \n",
       "3      3   Rome-Lib/graficon11nodi/grafo233.11     11           18   \n",
       "4      4  Rome-Lib/graficon12nodi/grafo2240.12     12           16   \n",
       "\n",
       "   Butterflies  X-vars  C-vars  Total vars  Total constraints  Crossings  \\\n",
       "0            0       8       7          15                 20          0   \n",
       "1            0       6       2           8                  8          0   \n",
       "2            0      15       0          15                 40          0   \n",
       "3            0      15      12          27                 36          0   \n",
       "4            0      12      11          23                 30          0   \n",
       "\n",
       "    Opttime  Status  Nodes visited  Setup Time    config  \n",
       "0  0.000556       2              0       0.020  d_235689  \n",
       "1  0.000291       2              0       0.001  d_235689  \n",
       "2  0.000040       2              0       0.002  d_235689  \n",
       "3  0.002283       2              0       0.003  d_235689  \n",
       "4  0.000364       2              0       0.002  d_235689  "
      ]
     },
     "execution_count": 82,
     "metadata": {},
     "output_type": "execute_result"
    }
   ],
   "source": [
    "df = pd.read_csv(r'data/direct_transitivity_data.csv')\n",
    "df.head()"
   ]
  },
  {
   "cell_type": "code",
   "execution_count": 83,
   "metadata": {},
   "outputs": [],
   "source": [
    "str_list = [\"1\", \"2\", \"3\",\"4\",\"5\",\"6\",\"7\",\"8\",\"9\"]\n",
    "\n",
    "for val in str_list:\n",
    "    df[val] = df[\"config\"].str.contains(val).astype(int)\n",
    "\n",
    "df.drop(['config'], inplace=True, axis = 1)"
   ]
  },
  {
   "cell_type": "code",
   "execution_count": 84,
   "metadata": {},
   "outputs": [
    {
     "data": {
      "text/plain": [
       "2    437453\n",
       "9    151347\n",
       "Name: Status, dtype: int64"
      ]
     },
     "execution_count": 84,
     "metadata": {},
     "output_type": "execute_result"
    }
   ],
   "source": [
    "df['Status'].value_counts()"
   ]
  },
  {
   "cell_type": "code",
   "execution_count": 85,
   "metadata": {},
   "outputs": [
    {
     "data": {
      "text/html": [
       "<div>\n",
       "<style scoped>\n",
       "    .dataframe tbody tr th:only-of-type {\n",
       "        vertical-align: middle;\n",
       "    }\n",
       "\n",
       "    .dataframe tbody tr th {\n",
       "        vertical-align: top;\n",
       "    }\n",
       "\n",
       "    .dataframe thead th {\n",
       "        text-align: right;\n",
       "    }\n",
       "</style>\n",
       "<table border=\"1\" class=\"dataframe\">\n",
       "  <thead>\n",
       "    <tr style=\"text-align: right;\">\n",
       "      <th></th>\n",
       "      <th>Nodes</th>\n",
       "      <th>Crossings</th>\n",
       "      <th>Opttime</th>\n",
       "      <th>Status</th>\n",
       "    </tr>\n",
       "  </thead>\n",
       "  <tbody>\n",
       "    <tr>\n",
       "      <th>267</th>\n",
       "      <td>64</td>\n",
       "      <td>940</td>\n",
       "      <td>60.404265</td>\n",
       "      <td>9</td>\n",
       "    </tr>\n",
       "    <tr>\n",
       "      <th>368</th>\n",
       "      <td>56</td>\n",
       "      <td>21</td>\n",
       "      <td>60.117755</td>\n",
       "      <td>9</td>\n",
       "    </tr>\n",
       "    <tr>\n",
       "      <th>374</th>\n",
       "      <td>35</td>\n",
       "      <td>21</td>\n",
       "      <td>60.181258</td>\n",
       "      <td>9</td>\n",
       "    </tr>\n",
       "    <tr>\n",
       "      <th>379</th>\n",
       "      <td>47</td>\n",
       "      <td>21</td>\n",
       "      <td>60.220476</td>\n",
       "      <td>9</td>\n",
       "    </tr>\n",
       "    <tr>\n",
       "      <th>382</th>\n",
       "      <td>44</td>\n",
       "      <td>55</td>\n",
       "      <td>60.306249</td>\n",
       "      <td>9</td>\n",
       "    </tr>\n",
       "    <tr>\n",
       "      <th>...</th>\n",
       "      <td>...</td>\n",
       "      <td>...</td>\n",
       "      <td>...</td>\n",
       "      <td>...</td>\n",
       "    </tr>\n",
       "    <tr>\n",
       "      <th>588795</th>\n",
       "      <td>83</td>\n",
       "      <td>415</td>\n",
       "      <td>60.073141</td>\n",
       "      <td>9</td>\n",
       "    </tr>\n",
       "    <tr>\n",
       "      <th>588796</th>\n",
       "      <td>92</td>\n",
       "      <td>643</td>\n",
       "      <td>60.113764</td>\n",
       "      <td>9</td>\n",
       "    </tr>\n",
       "    <tr>\n",
       "      <th>588797</th>\n",
       "      <td>91</td>\n",
       "      <td>210</td>\n",
       "      <td>60.284327</td>\n",
       "      <td>9</td>\n",
       "    </tr>\n",
       "    <tr>\n",
       "      <th>588798</th>\n",
       "      <td>100</td>\n",
       "      <td>39</td>\n",
       "      <td>60.040396</td>\n",
       "      <td>9</td>\n",
       "    </tr>\n",
       "    <tr>\n",
       "      <th>588799</th>\n",
       "      <td>73</td>\n",
       "      <td>26</td>\n",
       "      <td>60.140620</td>\n",
       "      <td>9</td>\n",
       "    </tr>\n",
       "  </tbody>\n",
       "</table>\n",
       "<p>151649 rows × 4 columns</p>\n",
       "</div>"
      ],
      "text/plain": [
       "        Nodes  Crossings    Opttime  Status\n",
       "267        64        940  60.404265       9\n",
       "368        56         21  60.117755       9\n",
       "374        35         21  60.181258       9\n",
       "379        47         21  60.220476       9\n",
       "382        44         55  60.306249       9\n",
       "...       ...        ...        ...     ...\n",
       "588795     83        415  60.073141       9\n",
       "588796     92        643  60.113764       9\n",
       "588797     91        210  60.284327       9\n",
       "588798    100         39  60.040396       9\n",
       "588799     73         26  60.140620       9\n",
       "\n",
       "[151649 rows x 4 columns]"
      ]
     },
     "execution_count": 85,
     "metadata": {},
     "output_type": "execute_result"
    }
   ],
   "source": [
    "df[df['Opttime']>60][['Nodes', 'Crossings','Opttime','Status']]"
   ]
  },
  {
   "cell_type": "markdown",
   "metadata": {},
   "source": [
    "### Distribution of Opttime of opttime"
   ]
  },
  {
   "cell_type": "code",
   "execution_count": 97,
   "metadata": {},
   "outputs": [
    {
     "data": {
      "image/png": "[encoded data removed]",
      "text/plain": [
       "<Figure size 432x288 with 1 Axes>"
      ]
     },
     "metadata": {
      "needs_background": "light"
     },
     "output_type": "display_data"
    }
   ],
   "source": [
    "plt.hist(df['Opttime'], bins = 100)\n",
    "plt.show()"
   ]
  },
  {
   "cell_type": "markdown",
   "metadata": {},
   "source": [
    "### Distribution of Opttime of opttime less than 60 / status =2 "
   ]
  },
  {
   "cell_type": "code",
   "execution_count": 94,
   "metadata": {},
   "outputs": [],
   "source": [
    "opttime_status_2 = df[df['Status']==2]['Opttime'].to_numpy()\n",
    "\n",
    "\n"
   ]
  },
  {
   "cell_type": "code",
   "execution_count": 95,
   "metadata": {},
   "outputs": [
    {
     "data": {
      "image/png": "[encoded data removed]",
      "text/plain": [
       "<Figure size 432x288 with 1 Axes>"
      ]
     },
     "metadata": {
      "needs_background": "light"
     },
     "output_type": "display_data"
    }
   ],
   "source": [
    "plt.hist(opttime_status_2, bins = 100)\n",
    "plt.show()"
   ]
  },
  {
   "cell_type": "markdown",
   "metadata": {},
   "source": [
    "### Distribution of Opttime in Ranges"
   ]
  },
  {
   "cell_type": "code",
   "execution_count": 100,
   "metadata": {},
   "outputs": [
    {
     "data": {
      "image/png": "[encoded data removed]",
      "text/plain": [
       "<Figure size 720x720 with 4 Axes>"
      ]
     },
     "metadata": {
      "needs_background": "light"
     },
     "output_type": "display_data"
    }
   ],
   "source": [
    "opttime_between_less_10 = df[(df['Opttime']<10)]['Opttime'].to_numpy()\n",
    "opttime_between_10_30 = df[(df['Opttime']>10)&(df['Opttime']<20)]['Opttime'].to_numpy()\n",
    "optime_between_30_50 = df[(df['Opttime']>30)&(df['Opttime']<50)]['Opttime'].to_numpy()\n",
    "optime_between_50_60 = df[(df['Opttime']>50)&(df['Status']==2)]['Opttime'].to_numpy()\n",
    "\n",
    "fig, ax = plt.subplots(2,2, figsize = (10,10))\n",
    "ax[0,0].hist(opttime_between_less_10, bins = 100)\n",
    "ax[0,1].hist(opttime_between_10_30, bins = 100)\n",
    "ax[1,0].hist(optime_between_30_50, bins = 100)\n",
    "ax[1,1].hist(optime_between_50_60, bins = 100)\n",
    "\n",
    "plt.show()"
   ]
  },
  {
   "cell_type": "markdown",
   "metadata": {},
   "source": [
    "### Attempt to transform and plot opttime"
   ]
  },
  {
   "cell_type": "code",
   "execution_count": 101,
   "metadata": {},
   "outputs": [
    {
     "data": {
      "image/png": "[encoded data removed]",
      "text/plain": [
       "<Figure size 432x288 with 1 Axes>"
      ]
     },
     "metadata": {
      "needs_background": "light"
     },
     "output_type": "display_data"
    }
   ],
   "source": [
    "fitted_data, fitted_lambda = stats.boxcox(opttime_status_2)\n",
    "plt.hist(fitted_data)\n",
    "plt.show()"
   ]
  },
  {
   "cell_type": "markdown",
   "metadata": {},
   "source": [
    "### Distribution of transformed Opttime in Ranges"
   ]
  },
  {
   "cell_type": "code",
   "execution_count": 102,
   "metadata": {},
   "outputs": [
    {
     "data": {
      "image/png": "[encoded data removed]",
      "text/plain": [
       "<Figure size 720x720 with 4 Axes>"
      ]
     },
     "metadata": {
      "needs_background": "light"
     },
     "output_type": "display_data"
    }
   ],
   "source": [
    "fitted_data_1, fitted_lambda_1 = stats.boxcox(opttime_between_less_10)\n",
    "fitted_data_2, fitted_lambda_2 = stats.boxcox(opttime_between_10_30)\n",
    "fitted_data_3, fitted_lambda_3 = stats.boxcox(optime_between_30_50)\n",
    "fitted_data_4, fitted_lambda_4 = stats.boxcox(optime_between_50_60)\n",
    "\n",
    "fig, ax = plt.subplots(2,2, figsize = (10,10))\n",
    "ax[0,0].hist(fitted_data_1, bins = 100)\n",
    "ax[0,1].hist(fitted_data_2, bins = 100)\n",
    "ax[1,0].hist(fitted_data_3, bins = 100)\n",
    "ax[1,1].hist(fitted_data_4, bins = 100)\n",
    "\n",
    "plt.show()"
   ]
  },
  {
   "cell_type": "code",
   "execution_count": null,
   "metadata": {},
   "outputs": [],
   "source": []
  }
 ],
 "metadata": {
  "kernelspec": {
   "display_name": "base",
   "language": "python",
   "name": "python3"
  },
  "language_info": {
   "codemirror_mode": {
    "name": "ipython",
    "version": 3
   },
   "file_extension": ".py",
   "mimetype": "text/x-python",
   "name": "python",
   "nbconvert_exporter": "python",
   "pygments_lexer": "ipython3",
   "version": "3.8.13"
  }
 },
 "nbformat": 4,
 "nbformat_minor": 2
}
